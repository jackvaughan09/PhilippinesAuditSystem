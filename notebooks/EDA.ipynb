{
 "cells": [
  {
   "attachments": {},
   "cell_type": "markdown",
   "metadata": {},
   "source": [
    "# Deep Learning Approaches Investigation\n",
    "\n",
    "___"
   ]
  },
  {
   "attachments": {},
   "cell_type": "markdown",
   "metadata": {},
   "source": [
    "## Imports and Configs"
   ]
  },
  {
   "cell_type": "code",
   "execution_count": 28,
   "metadata": {},
   "outputs": [],
   "source": [
    "import os\n",
    "import pandas as pd\n",
    "import camelot\n",
    "import logging\n",
    "import PyPDF2 as p\n",
    "from PIL import Image\n",
    "from PyPDF2.errors import PdfReadError\n",
    "import pdf2image\n",
    "import matplotlib.pyplot as plt"
   ]
  },
  {
   "cell_type": "code",
   "execution_count": 29,
   "metadata": {},
   "outputs": [],
   "source": [
    "# CONFIGS\n",
    "FILENAME_TARGET = [\"Status\", \"Audit\"]\n",
    "TARGET_SENTENCE = [\n",
    "    \"status\",\n",
    "    \"audit\",\n",
    "    \"implementation\",\n",
    "    \"recommendations\",\n",
    "    \"prior\",\n",
    "    \"year\",\n",
    "]\n",
    "CANON_HEADERS = [\n",
    "    \"audit observation\",\n",
    "    \"recommendations\",\n",
    "    \"references\",\n",
    "    \"status of implementation\",\n",
    "    \"reasons for partial/non-implementation\",\n",
    "    \"management action\",\n",
    "]\n",
    "FILTER_COLUMNS = [\n",
    "    \"references\",\n",
    "    \"status of implementation\",\n",
    "]\n",
    "DATA_DIR = \"extracted/\""
   ]
  },
  {
   "attachments": {},
   "cell_type": "markdown",
   "metadata": {},
   "source": [
    "## Clean up pdf directory"
   ]
  },
  {
   "cell_type": "code",
   "execution_count": 30,
   "metadata": {},
   "outputs": [
    {
     "name": "stdout",
     "output_type": "stream",
     "text": [
      "746\n",
      "746\n"
     ]
    }
   ],
   "source": [
    "\n",
    "def clean(directory):\n",
    "    \"\"\"Remove duplicate files and common unwanted files from a directory.\n",
    "    Args:\n",
    "        directory (str): The directory to clean.\n",
    "    \"\"\"\n",
    "    print(len(os.listdir(directory)))\n",
    "    seen = set()\n",
    "    for filename in os.listdir(directory):\n",
    "        if filename not in seen:\n",
    "            seen.add(filename)\n",
    "        else: # duplicate file\n",
    "            print(\"duplicate file: \" + filename)\n",
    "            os.remove(directory + filename)\n",
    "            continue\n",
    "        bad_names = [\n",
    "            \".docx\",\n",
    "            \".doc\",\n",
    "            \"Part-1\",\n",
    "            \"Certificate\",\n",
    "            \"Part1\",\n",
    "            \"Independent\"]\n",
    "        if any(bad_name in filename for bad_name in bad_names):\n",
    "            os.remove(directory + filename)\n",
    "    print(len(os.listdir(directory)))\n",
    "    \n",
    "clean(DATA_DIR)"
   ]
  },
  {
   "attachments": {},
   "cell_type": "markdown",
   "metadata": {},
   "source": [
    "#### Extremely comforting to see this function work so well:"
   ]
  },
  {
   "cell_type": "code",
   "execution_count": 31,
   "metadata": {},
   "outputs": [],
   "source": [
    "def find_part3_pgs(pdf_url: str):\n",
    "    \"\"\"\n",
    "    Finds the page range of Part III of a PDF.\n",
    "    Args:\n",
    "        *pdf_url* (str): path to the PDF file\n",
    "    Returns:\n",
    "        *str*: a string representing the page range of Part III\n",
    "             If no Part III is found, returns \"0\"\n",
    "\n",
    "    ### Description:\n",
    "    - Worst case: if there is no Part III and no target page, return \"0\"\n",
    "    - if there is no Part III, attempt target page detection\n",
    "    - if there is Part III but no Part IV, return Part III to end\n",
    "    - if both Part III and Part IV are present, return Part III to Part IV\n",
    "    \"\"\"\n",
    "    try:\n",
    "        reader = p.PdfReader(pdf_url)\n",
    "    except PdfReadError as e:\n",
    "        print(f\"Error reading file {pdf_url}: {e}\")\n",
    "        return (pdf_url, \"Error\", \"Error\")\n",
    "    contains_piii = []\n",
    "    contains_piv = []\n",
    "    target_pg = []\n",
    "\n",
    "    for i, pg in enumerate(reader.pages):\n",
    "        content = pg.extract_text().lower()\n",
    "        if \"part iii\" in content:\n",
    "            contains_piii.append(i)\n",
    "        if \"part iv\" in content:\n",
    "            contains_piv.append(i)\n",
    "        if all([target for target in TARGET_SENTENCE if target in content]):\n",
    "            target_pg.append(i)\n",
    "\n",
    "    # Worst case: if there is no Part III and no target page, return 0\n",
    "    if len(contains_piii) == 0 and len(target_pg) == 0:\n",
    "        return \"0\"\n",
    "\n",
    "    # if there is no Part III, attempt target page detection\n",
    "    # sometimes Part III is not labeled as such, but is still present\n",
    "    # relying on the target sentence capture to find the page\n",
    "    # has some problems, but is better than nothing\n",
    "    if len(contains_piii) == 0 and len(target_pg) > 0:\n",
    "        # if there is a target page, return first target page to end\n",
    "        return (pdf_url, target_pg[0], len(reader.pages))\n",
    "\n",
    "    # if there is Part III but no Part IV, return Part III to end\n",
    "    if len(contains_piv) == 0:\n",
    "        return (pdf_url, contains_piii[0], len(reader.pages))\n",
    "\n",
    "    # if both Part III and Part IV are present, return Part III to Part IV\n",
    "    part_3_start = contains_piii[-1]\n",
    "    part_4_start = contains_piv[-1]\n",
    "    if int(part_3_start) > int(part_4_start):\n",
    "        return (pdf_url, contains_piii[0], len(reader.pages))\n",
    "    elif int(part_3_start) < int(part_4_start):\n",
    "        return (pdf_url, contains_piii[-1], contains_piv[-1])\n",
    "    else:\n",
    "        return (pdf_url, contains_piii[0], len(reader.pages))"
   ]
  },
  {
   "attachments": {},
   "cell_type": "markdown",
   "metadata": {},
   "source": [
    "## Page Count Investigation"
   ]
  },
  {
   "cell_type": "code",
   "execution_count": 33,
   "metadata": {},
   "outputs": [],
   "source": [
    "# Calculate the page range of Part III for each PDF\n",
    "# want to loop through all pdfs in the directory\n",
    "def get_part3_pgs(pdf_dir):    \n",
    "    lens = []\n",
    "    for file in os.listdir(pdf_dir):\n",
    "        if file.endswith(\".pdf\"):\n",
    "            pdf_url = os.path.join(pdf_dir, file)\n",
    "            lens.append((find_part3_pgs(pdf_url)))\n",
    "        \n",
    "    # Create a dataframe of the page ranges\n",
    "    df = pd.DataFrame(lens, columns=[\"pdf_url\", \"start\", \"end\"])\n",
    "    df = df[df.start != \"Error\"]\n",
    "    df['pages'] = df.end.astype(int) - df.start.astype(int)\n",
    "    return df\n",
    "df = get_part3_pgs(DATA_DIR)"
   ]
  },
  {
   "cell_type": "code",
   "execution_count": 39,
   "metadata": {},
   "outputs": [
    {
     "data": {
      "image/png": "[encoded data removed]",
      "text/plain": [
       "<Figure size 500x300 with 1 Axes>"
      ]
     },
     "metadata": {},
     "output_type": "display_data"
    }
   ],
   "source": [
    "# Plot the distribution of pages in Part III\n",
    "plt.figure(figsize=(5,3))\n",
    "plt.hist(df.loc[df.pages < df.pages.quantile(.95), \"pages\"], bins=20)\n",
    "plt.title(\"Distribution of Pages in Part III\");"
   ]
  },
  {
   "cell_type": "code",
   "execution_count": 7,
   "metadata": {},
   "outputs": [
    {
     "data": {
      "text/plain": [
       "count    744.000000\n",
       "mean      14.645161\n",
       "std       15.620858\n",
       "min        1.000000\n",
       "25%        7.000000\n",
       "50%       11.000000\n",
       "75%       16.000000\n",
       "max      166.000000\n",
       "Name: pages, dtype: float64"
      ]
     },
     "execution_count": 7,
     "metadata": {},
     "output_type": "execute_result"
    }
   ],
   "source": [
    "# No 0 pages!\n",
    "df.pages.describe()"
   ]
  },
  {
   "attachments": {},
   "cell_type": "markdown",
   "metadata": {},
   "source": [
    "## Bitmap Conversion"
   ]
  },
  {
   "cell_type": "code",
   "execution_count": 11,
   "metadata": {},
   "outputs": [],
   "source": [
    "def convert_pages_to_bitmap(pdf_path, output_dir, page_ranges):\n",
    "    \"\"\"\n",
    "    Convert specific pages from a PDF to bitmap images.\n",
    "\n",
    "    :param pdf_path: str, path to the input PDF file\n",
    "    :param output_dir: str, path to the directory where the output images will be saved\n",
    "    :param page_ranges: list of tuples, each tuple contains the start and end page numbers (inclusive) to be converted\n",
    "    \"\"\"\n",
    "    if not os.path.exists(output_dir):\n",
    "        os.makedirs(output_dir)\n",
    "\n",
    "    # Load the PDF\n",
    "    images = pdf2image.convert_from_path(pdf_path)\n",
    "\n",
    "    # Iterate through the specified page ranges\n",
    "    for start_page, end_page in page_ranges:\n",
    "        for page_num in range(start_page - 1, end_page):  # start_page - 1 because Python uses zero-based indexing\n",
    "            if 0 <= page_num < len(images):  # Check if the page number is within the valid range\n",
    "                # Save the bitmap image\n",
    "                file = pdf_path.split(\"/\")[-1]\n",
    "                images[page_num].save(os.path.join(output_dir, f\"{file}_page_{page_num + 1}.bmp\"), \"BMP\")"
   ]
  },
  {
   "cell_type": "code",
   "execution_count": 9,
   "metadata": {},
   "outputs": [],
   "source": [
    "example = df.iloc[0]\n",
    "# convert_pages_to_bitmap(example.pdf_url, \"../extracted/images\", [(example.start, example.end)])"
   ]
  },
  {
   "attachments": {},
   "cell_type": "markdown",
   "metadata": {},
   "source": [
    "___"
   ]
  },
  {
   "attachments": {},
   "cell_type": "markdown",
   "metadata": {},
   "source": [
    "## Camelot Retesting"
   ]
  },
  {
   "cell_type": "code",
   "execution_count": 22,
   "metadata": {},
   "outputs": [
    {
     "name": "stderr",
     "output_type": "stream",
     "text": [
      "/Users/jackvaughan/opt/anaconda3/lib/python3.9/site-packages/camelot/parsers/stream.py:365: UserWarning: No tables found in table area 1\n",
      "  warnings.warn(f\"No tables found in table area {table_idx + 1}\")\n"
     ]
    }
   ],
   "source": [
    "dfs = camelot.read_pdf(\"extracted/12-NewLucena2013_Part3-Status_of_Implementation.pdf\", pages=\"1-end\", flavor=\"stream\")"
   ]
  },
  {
   "cell_type": "code",
   "execution_count": 23,
   "metadata": {},
   "outputs": [],
   "source": [
    "df = pd.concat([df.df for df in dfs])"
   ]
  },
  {
   "cell_type": "code",
   "execution_count": 24,
   "metadata": {},
   "outputs": [
    {
     "data": {
      "text/html": [
       "<div>\n",
       "<style scoped>\n",
       "    .dataframe tbody tr th:only-of-type {\n",
       "        vertical-align: middle;\n",
       "    }\n",
       "\n",
       "    .dataframe tbody tr th {\n",
       "        vertical-align: top;\n",
       "    }\n",
       "\n",
       "    .dataframe thead th {\n",
       "        text-align: right;\n",
       "    }\n",
       "</style>\n",
       "<table border=\"1\" class=\"dataframe\">\n",
       "  <thead>\n",
       "    <tr style=\"text-align: right;\">\n",
       "      <th></th>\n",
       "      <th>0</th>\n",
       "      <th>1</th>\n",
       "      <th>2</th>\n",
       "      <th>3</th>\n",
       "      <th>4</th>\n",
       "      <th>5</th>\n",
       "    </tr>\n",
       "  </thead>\n",
       "  <tbody>\n",
       "    <tr>\n",
       "      <th>0</th>\n",
       "      <td>PART III – STATUS OF IMPLEMENTATION OF PRIOR Y...</td>\n",
       "      <td>NaN</td>\n",
       "      <td>NaN</td>\n",
       "      <td>NaN</td>\n",
       "      <td>NaN</td>\n",
       "      <td>NaN</td>\n",
       "    </tr>\n",
       "    <tr>\n",
       "      <th>1</th>\n",
       "      <td>27</td>\n",
       "      <td>NaN</td>\n",
       "      <td>NaN</td>\n",
       "      <td>NaN</td>\n",
       "      <td>NaN</td>\n",
       "      <td>NaN</td>\n",
       "    </tr>\n",
       "    <tr>\n",
       "      <th>0</th>\n",
       "      <td></td>\n",
       "      <td>Audit Observation</td>\n",
       "      <td>Recommendation</td>\n",
       "      <td>Ref.</td>\n",
       "      <td>Managem</td>\n",
       "      <td>Status of</td>\n",
       "    </tr>\n",
       "    <tr>\n",
       "      <th>1</th>\n",
       "      <td></td>\n",
       "      <td></td>\n",
       "      <td></td>\n",
       "      <td></td>\n",
       "      <td>ent Action</td>\n",
       "      <td>Implementati</td>\n",
       "    </tr>\n",
       "    <tr>\n",
       "      <th>2</th>\n",
       "      <td></td>\n",
       "      <td></td>\n",
       "      <td></td>\n",
       "      <td></td>\n",
       "      <td></td>\n",
       "      <td>on</td>\n",
       "    </tr>\n",
       "    <tr>\n",
       "      <th>...</th>\n",
       "      <td>...</td>\n",
       "      <td>...</td>\n",
       "      <td>...</td>\n",
       "      <td>...</td>\n",
       "      <td>...</td>\n",
       "      <td>...</td>\n",
       "    </tr>\n",
       "    <tr>\n",
       "      <th>17</th>\n",
       "      <td></td>\n",
       "      <td>provision   of   the   Rules</td>\n",
       "      <td></td>\n",
       "      <td></td>\n",
       "      <td></td>\n",
       "      <td>items\\n \\nwere</td>\n",
       "    </tr>\n",
       "    <tr>\n",
       "      <th>18</th>\n",
       "      <td></td>\n",
       "      <td>and   Regulations\\n \\non</td>\n",
       "      <td></td>\n",
       "      <td></td>\n",
       "      <td></td>\n",
       "      <td>adjusted, except for</td>\n",
       "    </tr>\n",
       "    <tr>\n",
       "      <th>19</th>\n",
       "      <td></td>\n",
       "      <td>Settlement   of   Accounts</td>\n",
       "      <td>We   recommend   that   the</td>\n",
       "      <td></td>\n",
       "      <td></td>\n",
       "      <td>items   prior   to   cy</td>\n",
       "    </tr>\n",
       "    <tr>\n",
       "      <th>20</th>\n",
       "      <td></td>\n",
       "      <td></td>\n",
       "      <td></td>\n",
       "      <td>34</td>\n",
       "      <td></td>\n",
       "      <td></td>\n",
       "    </tr>\n",
       "    <tr>\n",
       "      <th>0</th>\n",
       "      <td>35</td>\n",
       "      <td>NaN</td>\n",
       "      <td>NaN</td>\n",
       "      <td>NaN</td>\n",
       "      <td>NaN</td>\n",
       "      <td>NaN</td>\n",
       "    </tr>\n",
       "  </tbody>\n",
       "</table>\n",
       "<p>286 rows × 6 columns</p>\n",
       "</div>"
      ],
      "text/plain": [
       "                                                    0  \\\n",
       "0   PART III – STATUS OF IMPLEMENTATION OF PRIOR Y...   \n",
       "1                                                  27   \n",
       "0                                                       \n",
       "1                                                       \n",
       "2                                                       \n",
       "..                                                ...   \n",
       "17                                                      \n",
       "18                                                      \n",
       "19                                                      \n",
       "20                                                      \n",
       "0                                                  35   \n",
       "\n",
       "                               1                            2     3  \\\n",
       "0                            NaN                          NaN   NaN   \n",
       "1                            NaN                          NaN   NaN   \n",
       "0              Audit Observation               Recommendation  Ref.   \n",
       "1                                                                     \n",
       "2                                                                     \n",
       "..                           ...                          ...   ...   \n",
       "17  provision   of   the   Rules                                      \n",
       "18      and   Regulations\\n \\non                                      \n",
       "19    Settlement   of   Accounts  We   recommend   that   the         \n",
       "20                                                               34   \n",
       "0                            NaN                          NaN   NaN   \n",
       "\n",
       "             4                        5  \n",
       "0          NaN                      NaN  \n",
       "1          NaN                      NaN  \n",
       "0      Managem                Status of  \n",
       "1   ent Action             Implementati  \n",
       "2                                    on  \n",
       "..         ...                      ...  \n",
       "17                       items\\n \\nwere  \n",
       "18                 adjusted, except for  \n",
       "19              items   prior   to   cy  \n",
       "20                                       \n",
       "0          NaN                      NaN  \n",
       "\n",
       "[286 rows x 6 columns]"
      ]
     },
     "execution_count": 24,
     "metadata": {},
     "output_type": "execute_result"
    }
   ],
   "source": [
    "df"
   ]
  },
  {
   "attachments": {},
   "cell_type": "markdown",
   "metadata": {},
   "source": [
    "---"
   ]
  },
  {
   "attachments": {},
   "cell_type": "markdown",
   "metadata": {},
   "source": [
    "## JPEG Conversion"
   ]
  },
  {
   "cell_type": "code",
   "execution_count": 40,
   "metadata": {},
   "outputs": [
    {
     "data": {
      "text/html": [
       "<div>\n",
       "<style scoped>\n",
       "    .dataframe tbody tr th:only-of-type {\n",
       "        vertical-align: middle;\n",
       "    }\n",
       "\n",
       "    .dataframe tbody tr th {\n",
       "        vertical-align: top;\n",
       "    }\n",
       "\n",
       "    .dataframe thead th {\n",
       "        text-align: right;\n",
       "    }\n",
       "</style>\n",
       "<table border=\"1\" class=\"dataframe\">\n",
       "  <thead>\n",
       "    <tr style=\"text-align: right;\">\n",
       "      <th></th>\n",
       "      <th>pdf_url</th>\n",
       "      <th>start</th>\n",
       "      <th>end</th>\n",
       "      <th>pages</th>\n",
       "    </tr>\n",
       "  </thead>\n",
       "  <tbody>\n",
       "    <tr>\n",
       "      <th>0</th>\n",
       "      <td>extracted/09-Bongabong2013_Part3-Status_of_PY'...</td>\n",
       "      <td>0</td>\n",
       "      <td>24</td>\n",
       "      <td>24</td>\n",
       "    </tr>\n",
       "    <tr>\n",
       "      <th>1</th>\n",
       "      <td>extracted/01-Umingan2013_Audit_Report.pdf</td>\n",
       "      <td>75</td>\n",
       "      <td>80</td>\n",
       "      <td>5</td>\n",
       "    </tr>\n",
       "    <tr>\n",
       "      <th>2</th>\n",
       "      <td>extracted/05-Binalbagan2013_Part3-Status_of_Im...</td>\n",
       "      <td>0</td>\n",
       "      <td>8</td>\n",
       "      <td>8</td>\n",
       "    </tr>\n",
       "    <tr>\n",
       "      <th>3</th>\n",
       "      <td>extracted/10-Boac2013_Part3-Status_of_PY's_Rec...</td>\n",
       "      <td>0</td>\n",
       "      <td>10</td>\n",
       "      <td>10</td>\n",
       "    </tr>\n",
       "    <tr>\n",
       "      <th>4</th>\n",
       "      <td>extracted/Magsaysay2013_Audit_Report.pdf</td>\n",
       "      <td>73</td>\n",
       "      <td>99</td>\n",
       "      <td>26</td>\n",
       "    </tr>\n",
       "  </tbody>\n",
       "</table>\n",
       "</div>"
      ],
      "text/plain": [
       "                                             pdf_url  start  end  pages\n",
       "0  extracted/09-Bongabong2013_Part3-Status_of_PY'...      0   24     24\n",
       "1          extracted/01-Umingan2013_Audit_Report.pdf     75   80      5\n",
       "2  extracted/05-Binalbagan2013_Part3-Status_of_Im...      0    8      8\n",
       "3  extracted/10-Boac2013_Part3-Status_of_PY's_Rec...      0   10     10\n",
       "4           extracted/Magsaysay2013_Audit_Report.pdf     73   99     26"
      ]
     },
     "execution_count": 40,
     "metadata": {},
     "output_type": "execute_result"
    }
   ],
   "source": [
    "df.head()"
   ]
  },
  {
   "cell_type": "code",
   "execution_count": 41,
   "metadata": {},
   "outputs": [],
   "source": [
    "def convert_pages_to_jpeg( pdf_path, output_dir, page_ranges):\n",
    "    \"\"\"\n",
    "    Convert specific pages from a PDF to bitmap images.\n",
    "\n",
    "    :param pdf_path: str, path to the input PDF file\n",
    "    :param output_dir: str, path to the directory where the output images will be saved\n",
    "    :param page_ranges: list of tuples, each tuple contains the start and end page numbers (inclusive) to be converted\n",
    "    \"\"\"\n",
    "    if not os.path.exists(output_dir):\n",
    "        os.makedirs(output_dir)\n",
    "\n",
    "    # Load the PDF\n",
    "    images = pdf2image.convert_from_path(pdf_path)\n",
    "\n",
    "    # Iterate through the specified page ranges\n",
    "    for start_page, end_page in page_ranges:\n",
    "        for page_num in range(start_page - 1, end_page):  # start_page - 1 because Python uses zero-based indexing\n",
    "            if 0 <= page_num < len(images):  # Check if the page number is within the valid range\n",
    "                # Save the bitmap image\n",
    "                file = pdf_path.split(\"/\")[-1]\n",
    "                images[page_num].save(os.path.join(output_dir, f\"{file}_page_{page_num + 1}.jpeg\"), \"JPEG\")"
   ]
  },
  {
   "cell_type": "code",
   "execution_count": 46,
   "metadata": {},
   "outputs": [],
   "source": [
    "for i, row in df.iterrows():\n",
    "    convert_pages_to_jpeg(\n",
    "        row.pdf_url,\n",
    "        f\"extracted/images/\",\n",
    "        [(row.start, row.end)])"
   ]
  },
  {
   "cell_type": "code",
   "execution_count": 47,
   "metadata": {},
   "outputs": [
    {
     "data": {
      "text/plain": [
       "11099"
      ]
     },
     "execution_count": 47,
     "metadata": {},
     "output_type": "execute_result"
    }
   ],
   "source": [
    "len(os.listdir(\"extracted/images\"))"
   ]
  },
  {
   "cell_type": "code",
   "execution_count": null,
   "metadata": {},
   "outputs": [],
   "source": []
  }
 ],
 "metadata": {
  "kernelspec": {
   "display_name": ".venv",
   "language": "python",
   "name": "python3"
  },
  "language_info": {
   "codemirror_mode": {
    "name": "ipython",
    "version": 3
   },
   "file_extension": ".py",
   "mimetype": "text/x-python",
   "name": "python",
   "nbconvert_exporter": "python",
   "pygments_lexer": "ipython3",
   "version": "3.9.16"
  },
  "orig_nbformat": 4
 },
 "nbformat": 4,
 "nbformat_minor": 2
}
