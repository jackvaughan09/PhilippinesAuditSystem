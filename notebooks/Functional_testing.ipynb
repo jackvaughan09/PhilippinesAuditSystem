{
 "cells": [
  {
   "cell_type": "code",
   "execution_count": 1,
   "metadata": {},
   "outputs": [],
   "source": [
    "import os\n",
    "import shutil\n",
    "\n",
    "import fitz\n",
    "import pandas as pd\n",
    "import PyPDF2 as p\n",
    "from tqdm import tqdm\n",
    "from PyPDF2.errors import PdfReadError\n",
    "\n",
    "from philaudit import (convert_pages_to_bitmap, get_part3_pgs,\n",
    "                       isolate_high_image_area_ratio_pdfs)"
   ]
  },
  {
   "cell_type": "code",
   "execution_count": 3,
   "metadata": {},
   "outputs": [],
   "source": [
    "def find_big_files(image_dir = \"./images\"):\n",
    "    all_files = os.listdir(image_dir)\n",
    "    bmp_files = [file for file in all_files if file.endswith('.bmp')]\n",
    "\n",
    "    big_files = set()\n",
    "    for file in tqdm(bmp_files):\n",
    "        base_name = os.path.splitext(file)[0].split('.pdf_page_')[0]\n",
    "        img_count = len([img for img in all_files if base_name in os.path.splitext(img)[0].split('.pdf_page_')[0]])\n",
    "\n",
    "        if img_count > 60:\n",
    "            big_files.add(base_name)\n",
    "\n",
    "    return big_files\n",
    "        \n",
    "def test_get_part3_pgs(generate_images=False):\n",
    "        pdf_dir = \"./test_pipeline_pdfs/\"\n",
    "        output_dir = \"./test_pipeline_images/\"\n",
    "        log_dir = \"./test_logs/\"\n",
    "        data = get_part3_pgs(pdf_dir, log_dir)\n",
    "        if generate_images:\n",
    "            print(\"Converting pages to images...\", end=\" \")\n",
    "            for _, row in tqdm(data.iterrows(), total=len(data)):\n",
    "                convert_pages_to_bitmap(row, output_dir)\n",
    "            print(\"Done\")\n",
    "            print(f\"All done! Now we have {len(os.listdir(output_dir))} images\")\n",
    "        return data\n",
    "    \n",
    "def find_pdfs_that_didnt_convert(img_dir = './images/', pdf_dir = './pdf/'):\n",
    "    imgfiles = set(file.split('_page_')[0] for file in os.listdir(img_dir) if file.endswith('.bmp'))\n",
    "    pdffiles = set(file for file in os.listdir(pdf_dir) if file.endswith('.pdf'))\n",
    "    not_converted = list(pdffiles - imgfiles)\n",
    "    return not_converted\n",
    "\n",
    "def grab_files_that_didnt_convert(img_dir = './images/', pdf_dir = './pdf/'):\n",
    "    not_converted = find_pdfs_that_didnt_convert(img_dir, pdf_dir)\n",
    "    for file in not_converted:\n",
    "        # move file to test_pipeline_pdfs\n",
    "        shutil.move(os.path.join(pdf_dir, file), os.path.join('./test_pipeline_pdfs/', file))"
   ]
  },
  {
   "cell_type": "code",
   "execution_count": 4,
   "metadata": {},
   "outputs": [
    {
     "name": "stderr",
     "output_type": "stream",
     "text": [
      "0it [00:00, ?it/s]\n"
     ]
    }
   ],
   "source": [
    "for file in find_big_files(image_dir='./test_pipeline_images/'):\n",
    "    print(\"Big File: \", file)"
   ]
  },
  {
   "cell_type": "code",
   "execution_count": 7,
   "metadata": {},
   "outputs": [
    {
     "data": {
      "text/plain": [
       "['01-Besao2013_Audit_Report.pdf',\n",
       " '01_Pilar2011_Audit_Report.pdf',\n",
       " '01-Natonin2013_Audit_Report.pdf']"
      ]
     },
     "execution_count": 7,
     "metadata": {},
     "output_type": "execute_result"
    }
   ],
   "source": [
    "find_pdfs_that_didnt_convert(img_dir='./test_pipeline_images/', pdf_dir='./pdf/')"
   ]
  },
  {
   "cell_type": "code",
   "execution_count": null,
   "metadata": {},
   "outputs": [],
   "source": []
  }
 ],
 "metadata": {
  "kernelspec": {
   "display_name": ".venv",
   "language": "python",
   "name": "python3"
  },
  "language_info": {
   "codemirror_mode": {
    "name": "ipython",
    "version": 3
   },
   "file_extension": ".py",
   "mimetype": "text/x-python",
   "name": "python",
   "nbconvert_exporter": "python",
   "pygments_lexer": "ipython3",
   "version": "3.8.16"
  },
  "orig_nbformat": 4
 },
 "nbformat": 4,
 "nbformat_minor": 2
}
