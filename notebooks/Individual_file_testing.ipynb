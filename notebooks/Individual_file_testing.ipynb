{
 "cells": [
  {
   "cell_type": "code",
   "execution_count": 1,
   "metadata": {},
   "outputs": [],
   "source": [
    "import os\n",
    "import re\n",
    "import sys\n",
    "import warnings\n",
    "from typing import List, Tuple\n",
    "\n",
    "import camelot\n",
    "import pandas as pd\n",
    "import pdf2image\n",
    "import philaudit as pa\n",
    "import PyPDF2 as p\n",
    "from PyPDF2.errors import PdfReadError\n",
    "from tqdm import tqdm\n",
    "\n",
    "PYDEVD_WARN_EVALUATION_TIMEOUT = 10.0"
   ]
  },
  {
   "cell_type": "code",
   "execution_count": 2,
   "metadata": {},
   "outputs": [],
   "source": [
    "pdf='./new_testers/01-Flora2019_Audit_Report.pdf'\n",
    "reader = p.PdfReader(pdf)"
   ]
  },
  {
   "cell_type": "code",
   "execution_count": 3,
   "metadata": {},
   "outputs": [],
   "source": [
    "reader = p.PdfReader(pdf)\n",
    "try:\n",
    "    start, end = pa.assign_start_end_pages(reader)\n",
    "    part3_rng = pa.detect_range_from_target_page(pdf, reader, start, end)\n",
    "    part3_rng = pa.remove_high_image_area_pages(pdf, part3_rng)\n",
    "    part3_rng = pa.remove_annex_pages_from_end_of_range(reader, part3_rng)\n",
    "    part3_rng = pa.remove_cover_pages_from_range(reader, part3_rng)\n",
    "    page_ranges = pa.remove_blank_pages_from_range(pdf, reader, part3_rng)\n",
    "    page_ranges = pa.remove_pages_without_tables(pdf, page_ranges) # <-- Would love a faster way to do this... \n",
    "    page_ranges\n",
    "except Exception as e:\n",
    "    print(e)"
   ]
  },
  {
   "cell_type": "code",
   "execution_count": null,
   "metadata": {},
   "outputs": [],
   "source": [
    "table_pages = []\n",
    "for rng in page_ranges:\n",
    "    table_pages.extend(rng)\n",
    "table_pages"
   ]
  },
  {
   "cell_type": "code",
   "execution_count": null,
   "metadata": {},
   "outputs": [],
   "source": [
    "run_data = [(pdf, table_pages)]"
   ]
  },
  {
   "cell_type": "code",
   "execution_count": null,
   "metadata": {},
   "outputs": [],
   "source": [
    "df = pd.DataFrame(run_data, columns=[\"file\", \"part3_range\"])\n",
    "df[\"pg_count\"] = df[\"part3_range\"].apply(lambda x: len(x))\n",
    "df"
   ]
  },
  {
   "cell_type": "code",
   "execution_count": null,
   "metadata": {},
   "outputs": [],
   "source": [
    "!rm -r ./test_pipeline_images/*"
   ]
  },
  {
   "cell_type": "code",
   "execution_count": null,
   "metadata": {},
   "outputs": [],
   "source": [
    "output_dir = \"./test_pipeline_images/\"\n",
    "for _, row in df.iterrows():\n",
    "    # convert_pages_to_bitmap(row.file, output_dir=\"./test_pipeline_images/\", part3_ranges = row.part3_range)\n",
    "    pgs = row.part3_range\n",
    "    images = pdf2image.convert_from_path(pdf)\n",
    "    for pg_num in pgs:\n",
    "        file = row.file.split(\"/\")[-1]\n",
    "        images[pg_num].save(\n",
    "            os.path.join(output_dir,\n",
    "                         f\"{file}_page_{pg_num + 1}.bmp\"), \"BMP\")\n",
    "    "
   ]
  },
  {
   "cell_type": "code",
   "execution_count": null,
   "metadata": {},
   "outputs": [],
   "source": [
    "images = pdf2image.convert_from_path(pdf)\n",
    "images[0]"
   ]
  },
  {
   "cell_type": "code",
   "execution_count": null,
   "metadata": {},
   "outputs": [],
   "source": [
    "images[-1]"
   ]
  },
  {
   "cell_type": "code",
   "execution_count": null,
   "metadata": {},
   "outputs": [],
   "source": []
  }
 ],
 "metadata": {
  "kernelspec": {
   "display_name": ".venv",
   "language": "python",
   "name": "python3"
  },
  "language_info": {
   "codemirror_mode": {
    "name": "ipython",
    "version": 3
   },
   "file_extension": ".py",
   "mimetype": "text/x-python",
   "name": "python",
   "nbconvert_exporter": "python",
   "pygments_lexer": "ipython3",
   "version": "3.8.16"
  },
  "orig_nbformat": 4
 },
 "nbformat": 4,
 "nbformat_minor": 2
}
