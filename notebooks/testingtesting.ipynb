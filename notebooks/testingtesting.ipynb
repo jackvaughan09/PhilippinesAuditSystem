{
 "cells": [
  {
   "cell_type": "code",
   "execution_count": 2,
   "metadata": {},
   "outputs": [],
   "source": [
    "import os\n",
    "import shutil\n",
    "\n",
    "from pdf2image import convert_from_path\n",
    "from PIL import Image\n",
    "\n",
    "from philaudit.detector import Detector"
   ]
  },
  {
   "cell_type": "code",
   "execution_count": 2,
   "metadata": {},
   "outputs": [],
   "source": [
    "my_detector = Detector(\"./weights.ckpt\")"
   ]
  },
  {
   "cell_type": "code",
   "execution_count": 4,
   "metadata": {},
   "outputs": [],
   "source": [
    "def convert_pdf_to_images(pdf_path, output_folder):\n",
    "    images = convert_from_path(pdf_path, fmt='png')\n",
    "    filename = os.path.splitext(os.path.basename(pdf_path))[0]\n",
    "    for idx, img in enumerate(images):\n",
    "        img_path = os.path.join(output_folder, f\"{filename}_page_{idx + 1}.png\")\n",
    "        img.save(img_path, 'png')"
   ]
  },
  {
   "cell_type": "code",
   "execution_count": null,
   "metadata": {},
   "outputs": [],
   "source": [
    "# for file in os.listdir('./training_data/exclude/'):\n",
    "#     path = os.path.join('./training_data/exclude/', file)\n",
    "#     shutil.copy(path, './training_data/all/')\n",
    "# for file in os.listdir('./training_data/include/'):\n",
    "#     path = os.path.join('./training_data/include/', file)\n",
    "#     shutil.copy(path, './training_data/all/')"
   ]
  },
  {
   "cell_type": "code",
   "execution_count": 5,
   "metadata": {},
   "outputs": [],
   "source": [
    "pdf_dir = './pdf'\n",
    "out_dir = './2011/'\n",
    "for file in os.listdir(pdf_dir):\n",
    "    p = os.path.join(pdf_dir, file)\n",
    "    convert_pdf_to_images(p, out_dir)"
   ]
  },
  {
   "cell_type": "code",
   "execution_count": 6,
   "metadata": {},
   "outputs": [],
   "source": [
    "def sorting_hat(images_path, include_path, exclude_path):\n",
    "    for image in os.listdir(images_path):\n",
    "        if image.endswith('.png'):\n",
    "            image_path = os.path.join(images_path, image)\n",
    "            image = Image.open(image_path)\n",
    "            prediction = my_detector.detect(image)\n",
    "            if prediction == 1:\n",
    "                shutil.copy(image_path, include_path)\n",
    "            else:\n",
    "                shutil.copy(image_path, exclude_path)"
   ]
  },
  {
   "cell_type": "code",
   "execution_count": 7,
   "metadata": {},
   "outputs": [],
   "source": [
    "images_path = \"./2011\"\n",
    "include_path = \"./labels/include\"\n",
    "exclude_path = \"./labels/exclude\""
   ]
  },
  {
   "cell_type": "code",
   "execution_count": 9,
   "metadata": {},
   "outputs": [],
   "source": [
    "sorting_hat(images_path, include_path, exclude_path)"
   ]
  },
  {
   "attachments": {},
   "cell_type": "markdown",
   "metadata": {},
   "source": [
    "---"
   ]
  },
  {
   "cell_type": "code",
   "execution_count": 17,
   "metadata": {},
   "outputs": [],
   "source": [
    "predicted_include = os.listdir(\"./labels/include/\") + os.listdir('./labels/fp')\n",
    "predicted_exclude = os.listdir(\"./labels/exclude/\") + os.listdir('./labels/fn')\n",
    "\n",
    "real_include = os.listdir(\"./training_data/include/\")\n",
    "real_exclude = os.listdir(\"./training_data/exclude/\")\n",
    "\n",
    "all_ims = os.listdir(\"./training_data/all/\")"
   ]
  },
  {
   "cell_type": "code",
   "execution_count": 29,
   "metadata": {},
   "outputs": [
    {
     "name": "stdout",
     "output_type": "stream",
     "text": [
      "False negative count: 36 of 24491\n",
      "False negative rate: 0.0015%\n"
     ]
    }
   ],
   "source": [
    "# finding images that should be in predicted include but are actually in predicted exclude\n",
    "# to find this, find intersection of real include and predicted exclude\n",
    "# \n",
    "false_negatives = list(\n",
    "    set(real_include).intersection(set(predicted_exclude))\n",
    ")\n",
    "print(f\"False negative count: {len(false_negatives)-3} of {len(real_exclude)-3}\")\n",
    "print(f\"False negative rate: {(len(false_negatives)-3)/(len(real_exclude)-3):.4f}%\")"
   ]
  },
  {
   "cell_type": "code",
   "execution_count": null,
   "metadata": {},
   "outputs": [],
   "source": [
    "true_negatives = len(real_exclude) - len(false_negatives)"
   ]
  },
  {
   "cell_type": "code",
   "execution_count": 30,
   "metadata": {},
   "outputs": [
    {
     "name": "stdout",
     "output_type": "stream",
     "text": [
      "False positive count: 60 of 9067\n",
      "False positive rate: 0.0066%\n"
     ]
    }
   ],
   "source": [
    "false_positives = list(\n",
    "    set(real_exclude).intersection(set(predicted_include))\n",
    ")\n",
    "print(f\"False positive count: {len(false_positives)} of {len(real_include)}\")\n",
    "print(f\"False positive rate: {len(false_positives)/len(real_include):.4f}%\")"
   ]
  },
  {
   "cell_type": "code",
   "execution_count": 36,
   "metadata": {},
   "outputs": [
    {
     "data": {
      "text/plain": [
       "190"
      ]
     },
     "execution_count": 36,
     "metadata": {},
     "output_type": "execute_result"
    }
   ],
   "source": [
    "9976-9786"
   ]
  },
  {
   "cell_type": "code",
   "execution_count": 33,
   "metadata": {},
   "outputs": [
    {
     "name": "stdout",
     "output_type": "stream",
     "text": [
      "0.9976%\n"
     ]
    }
   ],
   "source": [
    "precision = len()/(len(false_positives) +)\n",
    "print(f\"{1 - precision:.4f}\")"
   ]
  },
  {
   "cell_type": "code",
   "execution_count": 35,
   "metadata": {},
   "outputs": [
    {
     "name": "stdout",
     "output_type": "stream",
     "text": [
      "0.9960%\n"
     ]
    }
   ],
   "source": [
    "sensitivity = (len(false_negatives)-3)/len(real_include)\n",
    "print(f\"{1-sensitivity:.4f}\")"
   ]
  },
  {
   "cell_type": "code",
   "execution_count": 21,
   "metadata": {},
   "outputs": [],
   "source": [
    "for file in false_positives:\n",
    "    p = os.path.join(\"./training_data/all/\", file)\n",
    "    shutil.copy(p, './labels/false_positives/')\n",
    "    \n",
    "for file in false_negatives:\n",
    "    p = os.path.join(\"./training_data/all/\", file)\n",
    "    shutil.copy(p, './labels/false_negatives/')\n",
    "    "
   ]
  },
  {
   "cell_type": "code",
   "execution_count": null,
   "metadata": {},
   "outputs": [],
   "source": [
    "len(all_ims)"
   ]
  },
  {
   "attachments": {},
   "cell_type": "markdown",
   "metadata": {},
   "source": [
    "---"
   ]
  },
  {
   "cell_type": "code",
   "execution_count": 3,
   "metadata": {},
   "outputs": [],
   "source": [
    "# Stuff from 2011 round of images:\n",
    "tp_partial = os.listdir(\"./labels/include/\")\n",
    "fp = os.listdir('./labels/fp')\n",
    "pred_pos_all = tp_partial + fp"
   ]
  },
  {
   "cell_type": "code",
   "execution_count": 8,
   "metadata": {},
   "outputs": [
    {
     "name": "stdout",
     "output_type": "stream",
     "text": [
      "6.70254%\n"
     ]
    }
   ],
   "source": [
    "# False Positive Rate\n",
    "print(f'{len(fp)/len(pred_pos_all)*100:.5f}%')"
   ]
  },
  {
   "cell_type": "code",
   "execution_count": null,
   "metadata": {},
   "outputs": [],
   "source": []
  }
 ],
 "metadata": {
  "kernelspec": {
   "display_name": ".venv",
   "language": "python",
   "name": "python3"
  },
  "language_info": {
   "codemirror_mode": {
    "name": "ipython",
    "version": 3
   },
   "file_extension": ".py",
   "mimetype": "text/x-python",
   "name": "python",
   "nbconvert_exporter": "python",
   "pygments_lexer": "ipython3",
   "version": "3.8.16"
  },
  "orig_nbformat": 4
 },
 "nbformat": 4,
 "nbformat_minor": 2
}
