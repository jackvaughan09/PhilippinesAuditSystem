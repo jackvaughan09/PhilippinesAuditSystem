{
 "cells": [
  {
   "attachments": {},
   "cell_type": "markdown",
   "metadata": {},
   "source": [
    "# Testing file\n",
    "#### Author: @hudnash\n",
    "- ```mksheet.py``` has struggled to parse tables from pages where there aren't column headers in the first row. In this ```.ipynb```, I'm looking for specific failure points in an effort to rectify the ```extract``` and ```extracttools``` methods by adding conditional flow control that is capable of consistently delivering pages.\n",
    "- At the very least, the program should provide the pages that could not be parsed. This shall be the first section of the notebook."
   ]
  },
  {
   "attachments": {},
   "cell_type": "markdown",
   "metadata": {
    "notebookRunGroups": {
     "groupValue": ""
    }
   },
   "source": [
    "### Error reporting\n",
    "- If ```extract``` encounters a problem with any page that contains a table, then report this page in a log file."
   ]
  },
  {
   "cell_type": "code",
   "execution_count": 1,
   "metadata": {},
   "outputs": [
    {
     "data": {
      "text/plain": [
       "'/Users/hudsonnash/Dropbox/code/phil/control'"
      ]
     },
     "execution_count": 1,
     "metadata": {},
     "output_type": "execute_result"
    }
   ],
   "source": [
    "pwd"
   ]
  },
  {
   "cell_type": "code",
   "execution_count": 2,
   "metadata": {},
   "outputs": [
    {
     "name": "stdout",
     "output_type": "stream",
     "text": [
      "Requirement already satisfied: pip in /usr/local/lib/python3.10/site-packages (23.0.1)\n",
      "Note: you may need to restart the kernel to use updated packages.\n"
     ]
    }
   ],
   "source": [
    "pip install --upgrade pip"
   ]
  },
  {
   "cell_type": "code",
   "execution_count": 3,
   "metadata": {},
   "outputs": [
    {
     "name": "stdout",
     "output_type": "stream",
     "text": [
      "Requirement already satisfied: IPython[cv] in /Users/hudsonnash/Library/Python/3.10/lib/python/site-packages (from -r requirements.txt (line 1)) (8.8.0)\n",
      "Requirement already satisfied: ipykernel[cv] in /Users/hudsonnash/Library/Python/3.10/lib/python/site-packages (from -r requirements.txt (line 2)) (6.20.2)\n",
      "Requirement already satisfied: camelot-py[cv] in /usr/local/lib/python3.10/site-packages (from -r requirements.txt (line 3)) (0.9.0)\n",
      "Requirement already satisfied: cffi==1.15.1 in /Users/hudsonnash/Library/Python/3.10/lib/python/site-packages (from -r requirements.txt (line 4)) (1.15.1)\n",
      "Requirement already satisfied: chardet==5.1.0 in /usr/local/lib/python3.10/site-packages (from -r requirements.txt (line 5)) (5.1.0)\n",
      "Requirement already satisfied: charset-normalizer==3.0.1 in /usr/local/lib/python3.10/site-packages (from -r requirements.txt (line 6)) (3.0.1)\n",
      "Requirement already satisfied: click==8.1.3 in /usr/local/lib/python3.10/site-packages (from -r requirements.txt (line 7)) (8.1.3)\n",
      "Requirement already satisfied: colorama==0.4.6 in /usr/local/lib/python3.10/site-packages (from -r requirements.txt (line 8)) (0.4.6)\n",
      "Requirement already satisfied: cryptography==39.0.0 in /usr/local/lib/python3.10/site-packages (from -r requirements.txt (line 9)) (39.0.0)\n",
      "Requirement already satisfied: et-xmlfile==1.1.0 in /usr/local/lib/python3.10/site-packages (from -r requirements.txt (line 10)) (1.1.0)\n",
      "Requirement already satisfied: fuzzywuzzy==0.18.0 in /usr/local/lib/python3.10/site-packages (from -r requirements.txt (line 11)) (0.18.0)\n",
      "Requirement already satisfied: ghostscript==0.7 in /usr/local/lib/python3.10/site-packages (from -r requirements.txt (line 12)) (0.7)\n",
      "Requirement already satisfied: Levenshtein==0.20.9 in /usr/local/lib/python3.10/site-packages (from -r requirements.txt (line 13)) (0.20.9)\n",
      "Requirement already satisfied: numpy==1.24.1 in /usr/local/lib/python3.10/site-packages (from -r requirements.txt (line 14)) (1.24.1)\n",
      "Requirement already satisfied: opencv-python==4.7.0.68 in /usr/local/lib/python3.10/site-packages (from -r requirements.txt (line 15)) (4.7.0.68)\n",
      "Requirement already satisfied: openpyxl==3.0.10 in /usr/local/lib/python3.10/site-packages (from -r requirements.txt (line 16)) (3.0.10)\n",
      "Requirement already satisfied: pandas==1.5.3 in /usr/local/lib/python3.10/site-packages (from -r requirements.txt (line 17)) (1.5.3)\n",
      "Requirement already satisfied: pdfminer.six==20221105 in /usr/local/lib/python3.10/site-packages (from -r requirements.txt (line 18)) (20221105)\n",
      "Requirement already satisfied: pycparser==2.21 in /Users/hudsonnash/Library/Python/3.10/lib/python/site-packages (from -r requirements.txt (line 19)) (2.21)\n",
      "Requirement already satisfied: pycryptodome==3.17 in /usr/local/lib/python3.10/site-packages (from -r requirements.txt (line 20)) (3.17)\n",
      "Requirement already satisfied: PyPDF2==2.10.3 in /usr/local/lib/python3.10/site-packages (from -r requirements.txt (line 21)) (2.10.3)\n",
      "Requirement already satisfied: python-dateutil==2.8.2 in /Users/hudsonnash/Library/Python/3.10/lib/python/site-packages (from -r requirements.txt (line 22)) (2.8.2)\n",
      "Requirement already satisfied: python-Levenshtein==0.20.9 in /usr/local/lib/python3.10/site-packages (from -r requirements.txt (line 23)) (0.20.9)\n",
      "Requirement already satisfied: pytz==2022.7.1 in /usr/local/lib/python3.10/site-packages (from -r requirements.txt (line 24)) (2022.7.1)\n",
      "Requirement already satisfied: rapidfuzz==2.13.7 in /usr/local/lib/python3.10/site-packages (from -r requirements.txt (line 25)) (2.13.7)\n",
      "Requirement already satisfied: six==1.16.0 in /Users/hudsonnash/Library/Python/3.10/lib/python/site-packages (from -r requirements.txt (line 26)) (1.16.0)\n",
      "Requirement already satisfied: setuptools>=38.6.0 in /usr/local/lib/python3.10/site-packages (from ghostscript==0.7->-r requirements.txt (line 12)) (65.6.3)\n",
      "\u001b[33mWARNING: ipython 8.8.0 does not provide the extra 'cv'\u001b[0m\u001b[33m\n",
      "\u001b[0mRequirement already satisfied: matplotlib-inline in /Users/hudsonnash/Library/Python/3.10/lib/python/site-packages (from IPython[cv]->-r requirements.txt (line 1)) (0.1.6)\n",
      "Requirement already satisfied: traitlets>=5 in /Users/hudsonnash/Library/Python/3.10/lib/python/site-packages (from IPython[cv]->-r requirements.txt (line 1)) (5.8.1)\n",
      "Requirement already satisfied: pexpect>4.3 in /Users/hudsonnash/Library/Python/3.10/lib/python/site-packages (from IPython[cv]->-r requirements.txt (line 1)) (4.8.0)\n",
      "Requirement already satisfied: pygments>=2.4.0 in /Users/hudsonnash/Library/Python/3.10/lib/python/site-packages (from IPython[cv]->-r requirements.txt (line 1)) (2.14.0)\n",
      "Requirement already satisfied: appnope in /Users/hudsonnash/Library/Python/3.10/lib/python/site-packages (from IPython[cv]->-r requirements.txt (line 1)) (0.1.3)\n",
      "Requirement already satisfied: backcall in /Users/hudsonnash/Library/Python/3.10/lib/python/site-packages (from IPython[cv]->-r requirements.txt (line 1)) (0.2.0)\n",
      "Requirement already satisfied: prompt-toolkit<3.1.0,>=3.0.11 in /Users/hudsonnash/Library/Python/3.10/lib/python/site-packages (from IPython[cv]->-r requirements.txt (line 1)) (3.0.36)\n",
      "Requirement already satisfied: decorator in /Users/hudsonnash/Library/Python/3.10/lib/python/site-packages (from IPython[cv]->-r requirements.txt (line 1)) (5.1.1)\n",
      "Requirement already satisfied: stack-data in /Users/hudsonnash/Library/Python/3.10/lib/python/site-packages (from IPython[cv]->-r requirements.txt (line 1)) (0.6.2)\n",
      "Requirement already satisfied: jedi>=0.16 in /Users/hudsonnash/Library/Python/3.10/lib/python/site-packages (from IPython[cv]->-r requirements.txt (line 1)) (0.18.2)\n",
      "Requirement already satisfied: pickleshare in /Users/hudsonnash/Library/Python/3.10/lib/python/site-packages (from IPython[cv]->-r requirements.txt (line 1)) (0.7.5)\n",
      "\u001b[33mWARNING: ipykernel 6.20.2 does not provide the extra 'cv'\u001b[0m\u001b[33m\n",
      "\u001b[0mRequirement already satisfied: packaging in /Users/hudsonnash/Library/Python/3.10/lib/python/site-packages (from ipykernel[cv]->-r requirements.txt (line 2)) (23.0)\n",
      "Requirement already satisfied: pyzmq>=17 in /Users/hudsonnash/Library/Python/3.10/lib/python/site-packages (from ipykernel[cv]->-r requirements.txt (line 2)) (25.0.0)\n",
      "Requirement already satisfied: nest-asyncio in /Users/hudsonnash/Library/Python/3.10/lib/python/site-packages (from ipykernel[cv]->-r requirements.txt (line 2)) (1.5.6)\n",
      "Requirement already satisfied: psutil in /Users/hudsonnash/Library/Python/3.10/lib/python/site-packages (from ipykernel[cv]->-r requirements.txt (line 2)) (5.9.4)\n",
      "Requirement already satisfied: comm>=0.1.1 in /Users/hudsonnash/Library/Python/3.10/lib/python/site-packages (from ipykernel[cv]->-r requirements.txt (line 2)) (0.1.2)\n",
      "Requirement already satisfied: jupyter-client>=6.1.12 in /Users/hudsonnash/Library/Python/3.10/lib/python/site-packages (from ipykernel[cv]->-r requirements.txt (line 2)) (7.4.9)\n",
      "Requirement already satisfied: debugpy>=1.0 in /Users/hudsonnash/Library/Python/3.10/lib/python/site-packages (from ipykernel[cv]->-r requirements.txt (line 2)) (1.6.5)\n",
      "Requirement already satisfied: tornado>=6.1 in /Users/hudsonnash/Library/Python/3.10/lib/python/site-packages (from ipykernel[cv]->-r requirements.txt (line 2)) (6.2)\n",
      "Requirement already satisfied: parso<0.9.0,>=0.8.0 in /Users/hudsonnash/Library/Python/3.10/lib/python/site-packages (from jedi>=0.16->IPython[cv]->-r requirements.txt (line 1)) (0.8.3)\n",
      "Requirement already satisfied: jupyter-core>=4.9.2 in /Users/hudsonnash/Library/Python/3.10/lib/python/site-packages (from jupyter-client>=6.1.12->ipykernel[cv]->-r requirements.txt (line 2)) (5.1.3)\n",
      "Requirement already satisfied: entrypoints in /Users/hudsonnash/Library/Python/3.10/lib/python/site-packages (from jupyter-client>=6.1.12->ipykernel[cv]->-r requirements.txt (line 2)) (0.4)\n",
      "Requirement already satisfied: ptyprocess>=0.5 in /Users/hudsonnash/Library/Python/3.10/lib/python/site-packages (from pexpect>4.3->IPython[cv]->-r requirements.txt (line 1)) (0.7.0)\n",
      "Requirement already satisfied: wcwidth in /Users/hudsonnash/Library/Python/3.10/lib/python/site-packages (from prompt-toolkit<3.1.0,>=3.0.11->IPython[cv]->-r requirements.txt (line 1)) (0.2.6)\n",
      "Requirement already satisfied: executing>=1.2.0 in /Users/hudsonnash/Library/Python/3.10/lib/python/site-packages (from stack-data->IPython[cv]->-r requirements.txt (line 1)) (1.2.0)\n",
      "Requirement already satisfied: pure-eval in /Users/hudsonnash/Library/Python/3.10/lib/python/site-packages (from stack-data->IPython[cv]->-r requirements.txt (line 1)) (0.2.2)\n",
      "Requirement already satisfied: asttokens>=2.1.0 in /Users/hudsonnash/Library/Python/3.10/lib/python/site-packages (from stack-data->IPython[cv]->-r requirements.txt (line 1)) (2.2.1)\n",
      "Requirement already satisfied: platformdirs>=2.5 in /Users/hudsonnash/Library/Python/3.10/lib/python/site-packages (from jupyter-core>=4.9.2->jupyter-client>=6.1.12->ipykernel[cv]->-r requirements.txt (line 2)) (2.6.2)\n",
      "Note: you may need to restart the kernel to use updated packages.\n"
     ]
    }
   ],
   "source": [
    "pip install -r \"requirements.txt\""
   ]
  },
  {
   "cell_type": "code",
   "execution_count": 21,
   "metadata": {},
   "outputs": [
    {
     "data": {
      "text/plain": [
       "environ{'COMMAND_MODE': 'unix2003',\n",
       "        'CONDA_CHANGEPS1': 'no',\n",
       "        'CONDA_DEFAULT_ENV': 'base',\n",
       "        'CONDA_EXE': '/Users/hudsonnash/opt/anaconda3/bin/conda',\n",
       "        'CONDA_PREFIX': '/Users/hudsonnash/opt/anaconda3',\n",
       "        'CONDA_PROMPT_MODIFIER': '(base) ',\n",
       "        'CONDA_PYTHON_EXE': '/Users/hudsonnash/opt/anaconda3/bin/python',\n",
       "        'CONDA_SHLVL': '1',\n",
       "        'HOME': '/Users/hudsonnash',\n",
       "        'LOGNAME': 'hudsonnash',\n",
       "        'MallocNanoZone': '0',\n",
       "        'OLDPWD': '/',\n",
       "        'ORIGINAL_XDG_CURRENT_DESKTOP': 'undefined',\n",
       "        'PATH': '/Users/hudsonnash/Dropbox/code/phil/control/venv',\n",
       "        'PROMPT': '${COLOR_DIR}%d ${COLOR_GIT}$(parse_git_branch)${COLOR_DEF}${NEWLINE}%% ',\n",
       "        'PWD': '/',\n",
       "        'SHELL': '/bin/zsh',\n",
       "        'SHLVL': '0',\n",
       "        'SSH_AUTH_SOCK': '/private/tmp/com.apple.launchd.cuAitBVVdB/Listeners',\n",
       "        'TMPDIR': '/var/folders/78/kn36tmx96wqdrmwtp93_zxg40000gn/T/',\n",
       "        'USER': 'hudsonnash',\n",
       "        'VSCODE_AMD_ENTRYPOINT': 'vs/workbench/api/node/extensionHostProcess',\n",
       "        'VSCODE_CODE_CACHE_PATH': '/Users/hudsonnash/Library/Application Support/Code/CachedData/441438abd1ac652551dbe4d408dfcec8a499b8bf',\n",
       "        'VSCODE_CWD': '/',\n",
       "        'VSCODE_HANDLES_UNCAUGHT_ERRORS': 'true',\n",
       "        'VSCODE_IPC_HOOK': '/Users/hudsonnash/Library/Application Support/Code/1.75.1-main.sock',\n",
       "        'VSCODE_NLS_CONFIG': '{\"locale\":\"en-us\",\"availableLanguages\":{},\"_languagePackSupport\":true}',\n",
       "        'VSCODE_PID': '1018',\n",
       "        'XDG_CACHE_HOME': '/Users/hudsonnash/.cache',\n",
       "        'XDG_CONFIG_HOME': '/Users/hudsonnash/.config',\n",
       "        'XDG_DATA_HOME': '/Users/hudsonnash/.local/share',\n",
       "        'XDG_STATE_HOME': '/Users/hudsonnash/.local/state',\n",
       "        'XPC_FLAGS': '0x0',\n",
       "        'XPC_SERVICE_NAME': 'application.com.microsoft.VSCode.110217984.110218000',\n",
       "        '_': '/Applications/Visual Studio Code.app/Contents/MacOS/Electron',\n",
       "        '__CFBundleIdentifier': 'com.microsoft.VSCode',\n",
       "        '__CF_USER_TEXT_ENCODING': '0x1F5:0x0:0x0',\n",
       "        'ELECTRON_RUN_AS_NODE': '1',\n",
       "        'APPLICATION_INSIGHTS_NO_DIAGNOSTIC_CHANNEL': '1',\n",
       "        'JUPYTER_PATH': '/Users/hudsonnash/.vscode/extensions/ms-toolsai.jupyter-2023.1.2010391206/temp/jupyter',\n",
       "        'PYTHONUNBUFFERED': '1',\n",
       "        'PYTHONIOENCODING': 'utf-8',\n",
       "        'LC_CTYPE': 'UTF-8',\n",
       "        'PYDEVD_USE_FRAME_EVAL': 'NO',\n",
       "        'PYDEVD_IPYTHON_COMPATIBLE_DEBUGGING': '1',\n",
       "        'JPY_PARENT_PID': '1543',\n",
       "        'TERM': 'xterm-color',\n",
       "        'CLICOLOR': '1',\n",
       "        'FORCE_COLOR': '1',\n",
       "        'CLICOLOR_FORCE': '1',\n",
       "        'PAGER': 'cat',\n",
       "        'GIT_PAGER': 'cat',\n",
       "        'MPLBACKEND': 'module://matplotlib_inline.backend_inline'}"
      ]
     },
     "execution_count": 21,
     "metadata": {},
     "output_type": "execute_result"
    }
   ],
   "source": [
    "import os\n",
    "di = os.popen(\"pwd\").read()\n",
    "di = di.strip('\\n')\n",
    "os.popen(f\"/bin/chmod +x {di}/venv/bin/activate\").read()\n",
    "os.environ['PATH'] = f\"{di}/venv\"; os.environ"
   ]
  },
  {
   "cell_type": "code",
   "execution_count": 24,
   "metadata": {},
   "outputs": [],
   "source": [
    "!./venv/bin/activate"
   ]
  },
  {
   "cell_type": "code",
   "execution_count": 41,
   "metadata": {},
   "outputs": [
    {
     "name": "stdout",
     "output_type": "stream",
     "text": [
      "\u001b[35mvenv/bin/python\u001b[m\u001b[m\n"
     ]
    }
   ],
   "source": [
    "!/bin/ls venv/bin/python"
   ]
  },
  {
   "cell_type": "code",
   "execution_count": 42,
   "metadata": {},
   "outputs": [
    {
     "name": "stdout",
     "output_type": "stream",
     "text": [
      "venv/bin/python3.9: can't open file '/Users/hudsonnash/Dropbox/code/phil/control/ipykernel': [Errno 2] No such file or directory\n"
     ]
    }
   ],
   "source": [
    "!venv/bin/python3.9 venv/ipykernel install --user --name=venv"
   ]
  },
  {
   "cell_type": "code",
   "execution_count": 4,
   "metadata": {},
   "outputs": [
    {
     "name": "stdout",
     "output_type": "stream",
     "text": [
      "Found existing installation: Camelot 12.6.29\n",
      "Uninstalling Camelot-12.6.29:\n",
      "  Would remove:\n",
      "    /usr/local/bin/camelot_admin\n",
      "    /usr/local/bin/camelot_example\n",
      "    /usr/local/bin/camelot_mini_example\n",
      "    /usr/local/lib/python3.10/site-packages/Camelot-12.6.29.dist-info/*\n",
      "    /usr/local/lib/python3.10/site-packages/camelot/*\n",
      "    /usr/local/lib/python3.10/site-packages/camelot_example/*\n",
      "    /usr/local/lib/python3.10/site-packages/doc/sphinx/source/_static/action_button.png\n",
      "    /usr/local/lib/python3.10/site-packages/doc/sphinx/source/_static/admin_classes.png\n",
      "    /usr/local/lib/python3.10/site-packages/doc/sphinx/source/_static/budget.png\n",
      "    /usr/local/lib/python3.10/site-packages/doc/sphinx/source/_static/camelot-new-project.png\n",
      "    /usr/local/lib/python3.10/site-packages/doc/sphinx/source/_static/camelot_qt_linguist.png\n",
      "    /usr/local/lib/python3.10/site-packages/doc/sphinx/source/_static/collection_proxy.png\n",
      "    /usr/local/lib/python3.10/site-packages/doc/sphinx/source/_static/color.png\n",
      "    /usr/local/lib/python3.10/site-packages/doc/sphinx/source/_static/cpd_installer.png\n",
      "    /usr/local/lib/python3.10/site-packages/doc/sphinx/source/_static/editors/ChartEditor_disabled.png\n",
      "    /usr/local/lib/python3.10/site-packages/doc/sphinx/source/_static/editors/ChartEditor_editable.png\n",
      "    /usr/local/lib/python3.10/site-packages/doc/sphinx/source/_static/enumeration.png\n",
      "    /usr/local/lib/python3.10/site-packages/doc/sphinx/source/_static/field_attributes.png\n",
      "    /usr/local/lib/python3.10/site-packages/doc/sphinx/source/_static/file_delegate.png\n",
      "    /usr/local/lib/python3.10/site-packages/doc/sphinx/source/_static/final_report.png\n",
      "    /usr/local/lib/python3.10/site-packages/doc/sphinx/source/_static/image.png\n",
      "    /usr/local/lib/python3.10/site-packages/doc/sphinx/source/_static/interval_column_delegate.png\n",
      "    /usr/local/lib/python3.10/site-packages/doc/sphinx/source/_static/main-window.png\n",
      "    /usr/local/lib/python3.10/site-packages/doc/sphinx/source/_static/manytomany.png\n",
      "    /usr/local/lib/python3.10/site-packages/doc/sphinx/source/_static/manytoone.png\n",
      "    /usr/local/lib/python3.10/site-packages/doc/sphinx/source/_static/movie-table.png\n",
      "    /usr/local/lib/python3.10/site-packages/doc/sphinx/source/_static/navigation-pane.png\n",
      "    /usr/local/lib/python3.10/site-packages/doc/sphinx/source/_static/new-form.png\n",
      "    /usr/local/lib/python3.10/site-packages/doc/sphinx/source/_static/new-record.png\n",
      "    /usr/local/lib/python3.10/site-packages/doc/sphinx/source/_static/onetomany.png\n",
      "    /usr/local/lib/python3.10/site-packages/doc/sphinx/source/_static/picture1.png\n",
      "    /usr/local/lib/python3.10/site-packages/doc/sphinx/source/_static/picture2.png\n",
      "    /usr/local/lib/python3.10/site-packages/doc/sphinx/source/_static/picture3.png\n",
      "    /usr/local/lib/python3.10/site-packages/doc/sphinx/source/_static/picture4.png\n",
      "    /usr/local/lib/python3.10/site-packages/doc/sphinx/source/_static/picture5.png\n",
      "    /usr/local/lib/python3.10/site-packages/doc/sphinx/source/_static/picture6.png\n",
      "    /usr/local/lib/python3.10/site-packages/doc/sphinx/source/_static/picture7.png\n",
      "    /usr/local/lib/python3.10/site-packages/doc/sphinx/source/_static/picture8.png\n",
      "    /usr/local/lib/python3.10/site-packages/doc/sphinx/source/_static/plaintext.png\n",
      "    /usr/local/lib/python3.10/site-packages/doc/sphinx/source/_static/rating.png\n",
      "    /usr/local/lib/python3.10/site-packages/doc/sphinx/source/_static/richtext.png\n",
      "    /usr/local/lib/python3.10/site-packages/doc/sphinx/source/_static/simple_report.png\n",
      "    /usr/local/lib/python3.10/site-packages/doc/sphinx/source/_static/spyder-new-project.png\n",
      "    /usr/local/lib/python3.10/site-packages/doc/sphinx/source/_static/start-spyder.png\n",
      "    /usr/local/lib/python3.10/site-packages/doc/sphinx/source/_static/table-view.png\n",
      "    /usr/local/lib/python3.10/site-packages/doc/sphinx/source/_static/template_document_word.png\n",
      "    /usr/local/lib/python3.10/site-packages/doc/sphinx/source/_static/template_document_word_save_as.png\n",
      "    /usr/local/lib/python3.10/site-packages/doc/sphinx/source/_static/toolbar.png\n",
      "    /usr/local/lib/python3.10/site-packages/doc/sphinx/source/_static/unittest_dream.png\n",
      "    /usr/local/lib/python3.10/site-packages/doc/sphinx/source/_static/virtualaddress_editor.png\n",
      "    /usr/local/lib/python3.10/site-packages/doc/sphinx/source/_templates/layout.html\n",
      "    /usr/local/lib/python3.10/site-packages/doc/sphinx/source/advanced/debug.rst\n",
      "    /usr/local/lib/python3.10/site-packages/doc/sphinx/source/advanced/deployment.rst\n",
      "    /usr/local/lib/python3.10/site-packages/doc/sphinx/source/advanced/development.rst\n",
      "    /usr/local/lib/python3.10/site-packages/doc/sphinx/source/advanced/i18n.rst\n",
      "    /usr/local/lib/python3.10/site-packages/doc/sphinx/source/advanced/index.rst\n",
      "    /usr/local/lib/python3.10/site-packages/doc/sphinx/source/advanced/permissions.rst\n",
      "    /usr/local/lib/python3.10/site-packages/doc/sphinx/source/advanced/unittests.rst\n",
      "    /usr/local/lib/python3.10/site-packages/doc/sphinx/source/cep/actions_new.rst\n",
      "    /usr/local/lib/python3.10/site-packages/doc/sphinx/source/cep/index.rst\n",
      "    /usr/local/lib/python3.10/site-packages/doc/sphinx/source/cep/table_view.rst\n",
      "    /usr/local/lib/python3.10/site-packages/doc/sphinx/source/contents.rst\n",
      "    /usr/local/lib/python3.10/site-packages/doc/sphinx/source/copyright.rst\n",
      "    /usr/local/lib/python3.10/site-packages/doc/sphinx/source/doc/actions.rst\n",
      "    /usr/local/lib/python3.10/site-packages/doc/sphinx/source/doc/admin.rst\n",
      "    /usr/local/lib/python3.10/site-packages/doc/sphinx/source/doc/application_admin.rst\n",
      "    /usr/local/lib/python3.10/site-packages/doc/sphinx/source/doc/calculated_fields.rst\n",
      "    /usr/local/lib/python3.10/site-packages/doc/sphinx/source/doc/charts.rst\n",
      "    /usr/local/lib/python3.10/site-packages/doc/sphinx/source/doc/data_model.rst\n",
      "    /usr/local/lib/python3.10/site-packages/doc/sphinx/source/doc/delegates.rst\n",
      "    /usr/local/lib/python3.10/site-packages/doc/sphinx/source/doc/documents.rst\n",
      "    /usr/local/lib/python3.10/site-packages/doc/sphinx/source/doc/entity_admin.rst\n",
      "    /usr/local/lib/python3.10/site-packages/doc/sphinx/source/doc/faq.rst\n",
      "    /usr/local/lib/python3.10/site-packages/doc/sphinx/source/doc/field_attributes.rst\n",
      "    /usr/local/lib/python3.10/site-packages/doc/sphinx/source/doc/fields.rst\n",
      "    /usr/local/lib/python3.10/site-packages/doc/sphinx/source/doc/fixtures.rst\n",
      "    /usr/local/lib/python3.10/site-packages/doc/sphinx/source/doc/forms.rst\n",
      "    /usr/local/lib/python3.10/site-packages/doc/sphinx/source/doc/index.rst\n",
      "    /usr/local/lib/python3.10/site-packages/doc/sphinx/source/doc/install.rst\n",
      "    /usr/local/lib/python3.10/site-packages/doc/sphinx/source/doc/manage.rst\n",
      "    /usr/local/lib/python3.10/site-packages/doc/sphinx/source/doc/models.rst\n",
      "    /usr/local/lib/python3.10/site-packages/doc/sphinx/source/doc/object_admin.rst\n",
      "    /usr/local/lib/python3.10/site-packages/doc/sphinx/source/doc/reports.rst\n",
      "    /usr/local/lib/python3.10/site-packages/doc/sphinx/source/doc/schemas.rst\n",
      "    /usr/local/lib/python3.10/site-packages/doc/sphinx/source/doc/shortcuts.rst\n",
      "    /usr/local/lib/python3.10/site-packages/doc/sphinx/source/doc/threads.rst\n",
      "    /usr/local/lib/python3.10/site-packages/doc/sphinx/source/doc/under_the_hood.rst\n",
      "    /usr/local/lib/python3.10/site-packages/doc/sphinx/source/doc/validators.rst\n",
      "    /usr/local/lib/python3.10/site-packages/doc/sphinx/source/doc/views.rst\n",
      "    /usr/local/lib/python3.10/site-packages/doc/sphinx/source/index.rst\n",
      "    /usr/local/lib/python3.10/site-packages/doc/sphinx/source/license.rst\n",
      "    /usr/local/lib/python3.10/site-packages/doc/sphinx/source/migrate/11-12-30.rst\n",
      "    /usr/local/lib/python3.10/site-packages/doc/sphinx/source/migrate/index.rst\n",
      "    /usr/local/lib/python3.10/site-packages/doc/sphinx/source/news.rst\n",
      "    /usr/local/lib/python3.10/site-packages/doc/sphinx/source/tutorial/importer.rst\n",
      "    /usr/local/lib/python3.10/site-packages/doc/sphinx/source/tutorial/index.rst\n",
      "    /usr/local/lib/python3.10/site-packages/doc/sphinx/source/tutorial/reporting.rst\n",
      "    /usr/local/lib/python3.10/site-packages/doc/sphinx/source/tutorial/videostore.rst\n",
      "    /usr/local/lib/python3.10/site-packages/test/*\n",
      "  Would not remove (might be manually added):\n",
      "    /usr/local/lib/python3.10/site-packages/camelot/__main__.py\n",
      "    /usr/local/lib/python3.10/site-packages/camelot/__version__.py\n",
      "    /usr/local/lib/python3.10/site-packages/camelot/cli.py\n",
      "    /usr/local/lib/python3.10/site-packages/camelot/core.py\n",
      "    /usr/local/lib/python3.10/site-packages/camelot/ext/__init__.py\n",
      "    /usr/local/lib/python3.10/site-packages/camelot/ext/ghostscript/__init__.py\n",
      "    /usr/local/lib/python3.10/site-packages/camelot/ext/ghostscript/_gsprint.py\n",
      "    /usr/local/lib/python3.10/site-packages/camelot/handlers.py\n",
      "    /usr/local/lib/python3.10/site-packages/camelot/image_processing.py\n",
      "    /usr/local/lib/python3.10/site-packages/camelot/io.py\n",
      "    /usr/local/lib/python3.10/site-packages/camelot/parsers/__init__.py\n",
      "    /usr/local/lib/python3.10/site-packages/camelot/parsers/base.py\n",
      "    /usr/local/lib/python3.10/site-packages/camelot/parsers/lattice.py\n",
      "    /usr/local/lib/python3.10/site-packages/camelot/parsers/stream.py\n",
      "    /usr/local/lib/python3.10/site-packages/camelot/plotting.py\n",
      "    /usr/local/lib/python3.10/site-packages/camelot/utils.py\n",
      "Proceed (Y/n)? \u001b[31mERROR: Exception:\n",
      "Traceback (most recent call last):\n",
      "  File \"/usr/local/lib/python3.10/site-packages/pip/_internal/cli/base_command.py\", line 160, in exc_logging_wrapper\n",
      "    status = run_func(*args)\n",
      "  File \"/usr/local/lib/python3.10/site-packages/pip/_internal/commands/uninstall.py\", line 105, in run\n",
      "    uninstall_pathset = req.uninstall(\n",
      "  File \"/usr/local/lib/python3.10/site-packages/pip/_internal/req/req_install.py\", line 664, in uninstall\n",
      "    uninstalled_pathset.remove(auto_confirm, verbose)\n",
      "  File \"/usr/local/lib/python3.10/site-packages/pip/_internal/req/req_uninstall.py\", line 367, in remove\n",
      "    if auto_confirm or self._allowed_to_proceed(verbose):\n",
      "  File \"/usr/local/lib/python3.10/site-packages/pip/_internal/req/req_uninstall.py\", line 407, in _allowed_to_proceed\n",
      "    return ask(\"Proceed (Y/n)? \", (\"y\", \"n\", \"\")) != \"n\"\n",
      "  File \"/usr/local/lib/python3.10/site-packages/pip/_internal/utils/misc.py\", line 191, in ask\n",
      "    response = input(message)\n",
      "EOFError: EOF when reading a line\u001b[0m\u001b[31m\n",
      "\u001b[0mNote: you may need to restart the kernel to use updated packages.\n"
     ]
    }
   ],
   "source": [
    "pip uninstall camelot << \"Y\""
   ]
  },
  {
   "cell_type": "code",
   "execution_count": 5,
   "metadata": {},
   "outputs": [
    {
     "name": "stdout",
     "output_type": "stream",
     "text": [
      "zsh:1: no matches found: camelot-py[cv]\n",
      "Note: you may need to restart the kernel to use updated packages.\n"
     ]
    }
   ],
   "source": [
    "%pip install camelot-py[cv]"
   ]
  },
  {
   "cell_type": "code",
   "execution_count": 6,
   "metadata": {},
   "outputs": [
    {
     "name": "stdout",
     "output_type": "stream",
     "text": [
      "env: PATH='venv/'\n"
     ]
    }
   ],
   "source": [
    "%set_env PATH = 'venv/'"
   ]
  },
  {
   "cell_type": "code",
   "execution_count": 7,
   "metadata": {},
   "outputs": [
    {
     "data": {
      "text/plain": [
       "'/Users/hudsonnash/Dropbox/code/phil/control'"
      ]
     },
     "execution_count": 7,
     "metadata": {},
     "output_type": "execute_result"
    }
   ],
   "source": [
    "import os\n",
    "di = os.popen(\"pwd\").read()\n",
    "di = di.strip('\\n');di"
   ]
  },
  {
   "cell_type": "code",
   "execution_count": 8,
   "metadata": {},
   "outputs": [
    {
     "data": {
      "text/plain": [
       "environ{'COMMAND_MODE': 'unix2003',\n",
       "        'CONDA_CHANGEPS1': 'no',\n",
       "        'CONDA_DEFAULT_ENV': 'base',\n",
       "        'CONDA_EXE': '/Users/hudsonnash/opt/anaconda3/bin/conda',\n",
       "        'CONDA_PREFIX': '/Users/hudsonnash/opt/anaconda3',\n",
       "        'CONDA_PROMPT_MODIFIER': '(base) ',\n",
       "        'CONDA_PYTHON_EXE': '/Users/hudsonnash/opt/anaconda3/bin/python',\n",
       "        'CONDA_SHLVL': '1',\n",
       "        'HOME': '/Users/hudsonnash',\n",
       "        'LOGNAME': 'hudsonnash',\n",
       "        'MallocNanoZone': '0',\n",
       "        'OLDPWD': '/',\n",
       "        'ORIGINAL_XDG_CURRENT_DESKTOP': 'undefined',\n",
       "        'PATH': '/Users/hudsonnash/Dropbox/code/phil/control/venv',\n",
       "        'PROMPT': '${COLOR_DIR}%d ${COLOR_GIT}$(parse_git_branch)${COLOR_DEF}${NEWLINE}%% ',\n",
       "        'PWD': '/',\n",
       "        'SHELL': '/bin/zsh',\n",
       "        'SHLVL': '0',\n",
       "        'SSH_AUTH_SOCK': '/private/tmp/com.apple.launchd.cuAitBVVdB/Listeners',\n",
       "        'TMPDIR': '/var/folders/78/kn36tmx96wqdrmwtp93_zxg40000gn/T/',\n",
       "        'USER': 'hudsonnash',\n",
       "        'VSCODE_AMD_ENTRYPOINT': 'vs/workbench/api/node/extensionHostProcess',\n",
       "        'VSCODE_CODE_CACHE_PATH': '/Users/hudsonnash/Library/Application Support/Code/CachedData/441438abd1ac652551dbe4d408dfcec8a499b8bf',\n",
       "        'VSCODE_CWD': '/',\n",
       "        'VSCODE_HANDLES_UNCAUGHT_ERRORS': 'true',\n",
       "        'VSCODE_IPC_HOOK': '/Users/hudsonnash/Library/Application Support/Code/1.75.1-main.sock',\n",
       "        'VSCODE_NLS_CONFIG': '{\"locale\":\"en-us\",\"availableLanguages\":{},\"_languagePackSupport\":true}',\n",
       "        'VSCODE_PID': '1018',\n",
       "        'XDG_CACHE_HOME': '/Users/hudsonnash/.cache',\n",
       "        'XDG_CONFIG_HOME': '/Users/hudsonnash/.config',\n",
       "        'XDG_DATA_HOME': '/Users/hudsonnash/.local/share',\n",
       "        'XDG_STATE_HOME': '/Users/hudsonnash/.local/state',\n",
       "        'XPC_FLAGS': '0x0',\n",
       "        'XPC_SERVICE_NAME': 'application.com.microsoft.VSCode.110217984.110218000',\n",
       "        '_': '/Applications/Visual Studio Code.app/Contents/MacOS/Electron',\n",
       "        '__CFBundleIdentifier': 'com.microsoft.VSCode',\n",
       "        '__CF_USER_TEXT_ENCODING': '0x1F5:0x0:0x0',\n",
       "        'ELECTRON_RUN_AS_NODE': '1',\n",
       "        'APPLICATION_INSIGHTS_NO_DIAGNOSTIC_CHANNEL': '1',\n",
       "        'JUPYTER_PATH': '/Users/hudsonnash/.vscode/extensions/ms-toolsai.jupyter-2023.1.2010391206/temp/jupyter',\n",
       "        'PYTHONUNBUFFERED': '1',\n",
       "        'PYTHONIOENCODING': 'utf-8',\n",
       "        'LC_CTYPE': 'UTF-8',\n",
       "        'PYDEVD_USE_FRAME_EVAL': 'NO',\n",
       "        'PYDEVD_IPYTHON_COMPATIBLE_DEBUGGING': '1',\n",
       "        'JPY_PARENT_PID': '1543',\n",
       "        'TERM': 'xterm-color',\n",
       "        'CLICOLOR': '1',\n",
       "        'FORCE_COLOR': '1',\n",
       "        'CLICOLOR_FORCE': '1',\n",
       "        'PAGER': 'cat',\n",
       "        'GIT_PAGER': 'cat',\n",
       "        'MPLBACKEND': 'module://matplotlib_inline.backend_inline'}"
      ]
     },
     "execution_count": 8,
     "metadata": {},
     "output_type": "execute_result"
    }
   ],
   "source": [
    "import os\n",
    "os.popen(f\"/bin/chmod +x {di}/venv/bin/activate\").read()\n",
    "os.environ['PATH'] = f\"{di}/venv\"; os.environ"
   ]
  },
  {
   "cell_type": "code",
   "execution_count": 9,
   "metadata": {},
   "outputs": [
    {
     "name": "stdout",
     "output_type": "stream",
     "text": [
      "Package                      Version\n",
      "---------------------------- -----------\n",
      "absl-py                      1.4.0\n",
      "anyio                        3.6.2\n",
      "appnope                      0.1.3\n",
      "argon2-cffi                  21.3.0\n",
      "argon2-cffi-bindings         21.2.0\n",
      "arrow                        1.2.3\n",
      "asttokens                    2.2.1\n",
      "astunparse                   1.6.3\n",
      "attrs                        22.2.0\n",
      "autopep8                     2.0.1\n",
      "backcall                     0.2.0\n",
      "beautifulsoup4               4.11.2\n",
      "bleach                       6.0.0\n",
      "cachetools                   5.2.1\n",
      "Camelot                      12.6.29\n",
      "camelot-py                   0.9.0\n",
      "certifi                      2022.12.7\n",
      "cffi                         1.15.1\n",
      "chardet                      5.1.0\n",
      "charset-normalizer           3.0.1\n",
      "click                        8.1.3\n",
      "colorama                     0.4.6\n",
      "comm                         0.1.2\n",
      "contourpy                    1.0.7\n",
      "cryptography                 39.0.0\n",
      "cycler                       0.11.0\n",
      "debugpy                      1.6.5\n",
      "decorator                    5.1.1\n",
      "defusedxml                   0.7.1\n",
      "Elixir                       0.7.1\n",
      "entrypoints                  0.4\n",
      "et-xmlfile                   1.1.0\n",
      "executing                    1.2.0\n",
      "fastjsonschema               2.16.2\n",
      "flatbuffers                  23.1.4\n",
      "fonttools                    4.38.0\n",
      "fqdn                         1.5.1\n",
      "fuzzywuzzy                   0.18.0\n",
      "gast                         0.4.0\n",
      "geostatspy                   0.0.26\n",
      "ghostscript                  0.7\n",
      "google-auth                  2.16.0\n",
      "google-auth-oauthlib         0.4.6\n",
      "google-pasta                 0.2.0\n",
      "grpcio                       1.51.1\n",
      "h5py                         3.7.0\n",
      "idna                         3.4\n",
      "ipykernel                    6.20.2\n",
      "ipython                      8.8.0\n",
      "ipython-genutils             0.2.0\n",
      "isoduration                  20.11.0\n",
      "jedi                         0.18.2\n",
      "Jinja2                       3.1.2\n",
      "joblib                       1.2.0\n",
      "jsonpointer                  2.3\n",
      "jsonschema                   4.17.3\n",
      "jupyter_client               7.4.9\n",
      "jupyter_core                 5.1.3\n",
      "jupyter-events               0.6.3\n",
      "jupyter_server               2.2.1\n",
      "jupyter_server_terminals     0.4.4\n",
      "jupyterlab-pygments          0.2.2\n",
      "keras                        2.11.0\n",
      "kiwisolver                   1.4.4\n",
      "Levenshtein                  0.20.9\n",
      "libclang                     15.0.6.1\n",
      "Markdown                     3.4.1\n",
      "MarkupSafe                   2.1.2\n",
      "matplotlib                   3.6.3\n",
      "matplotlib-inline            0.1.6\n",
      "mistune                      2.0.4\n",
      "nbclassic                    0.5.1\n",
      "nbclient                     0.7.2\n",
      "nbconvert                    7.2.9\n",
      "nbformat                     5.7.3\n",
      "nest-asyncio                 1.5.6\n",
      "notebook                     6.5.2\n",
      "notebook_shim                0.2.2\n",
      "numpy                        1.24.1\n",
      "oauthlib                     3.2.2\n",
      "opencv-python                4.7.0.68\n",
      "openpyxl                     3.0.10\n",
      "opt-einsum                   3.3.0\n",
      "packaging                    23.0\n",
      "pandas                       1.5.3\n",
      "pandocfilters                1.5.0\n",
      "parso                        0.8.3\n",
      "patsy                        0.5.3\n",
      "pbr                          5.11.1\n",
      "pdfminer.six                 20221105\n",
      "pexpect                      4.8.0\n",
      "pickleshare                  0.7.5\n",
      "Pillow                       9.4.0\n",
      "pip                          23.0.1\n",
      "platformdirs                 2.6.2\n",
      "prometheus-client            0.16.0\n",
      "prompt-toolkit               3.0.36\n",
      "protobuf                     3.19.6\n",
      "psutil                       5.9.4\n",
      "ptyprocess                   0.7.0\n",
      "pure-eval                    0.2.2\n",
      "pyasn1                       0.4.8\n",
      "pyasn1-modules               0.2.8\n",
      "pycodestyle                  2.10.0\n",
      "pycparser                    2.21\n",
      "pycryptodome                 3.17\n",
      "Pygments                     2.14.0\n",
      "pyparsing                    3.0.9\n",
      "pypdf                        3.5.0\n",
      "PyPDF2                       2.10.3\n",
      "pyrsistent                   0.19.3\n",
      "python-dateutil              2.8.2\n",
      "python-json-logger           2.0.4\n",
      "python-Levenshtein           0.20.9\n",
      "pytz                         2022.7.1\n",
      "PyYAML                       6.0\n",
      "pyzmq                        25.0.0\n",
      "rapidfuzz                    2.13.7\n",
      "requests                     2.28.2\n",
      "requests-oauthlib            1.3.1\n",
      "rfc3339-validator            0.1.4\n",
      "rfc3986-validator            0.1.1\n",
      "rsa                          4.9\n",
      "scikit-learn                 1.2.0\n",
      "scipy                        1.10.0\n",
      "seaborn                      0.12.2\n",
      "Send2Trash                   1.8.0\n",
      "setuptools                   65.6.3\n",
      "six                          1.16.0\n",
      "sklearn                      0.0.post1\n",
      "sniffio                      1.3.0\n",
      "soupsieve                    2.3.2.post1\n",
      "SQLAlchemy                   0.7.10\n",
      "sqlalchemy-migrate           0.11.0\n",
      "sqlparse                     0.4.3\n",
      "stack-data                   0.6.2\n",
      "statsmodels                  0.13.5\n",
      "tabulate                     0.9.0\n",
      "Tempita                      0.5.2\n",
      "tensorboard                  2.11.2\n",
      "tensorboard-data-server      0.6.1\n",
      "tensorboard-plugin-wit       1.8.1\n",
      "tensorflow                   2.11.0\n",
      "tensorflow-estimator         2.11.0\n",
      "tensorflow-io-gcs-filesystem 0.29.0\n",
      "termcolor                    2.2.0\n",
      "terminado                    0.17.1\n",
      "threadpoolctl                3.1.0\n",
      "tinycss2                     1.2.1\n",
      "tomli                        2.0.1\n",
      "tornado                      6.2\n",
      "traitlets                    5.8.1\n",
      "typing_extensions            4.4.0\n",
      "uri-template                 1.2.0\n",
      "urllib3                      1.26.14\n",
      "wcwidth                      0.2.6\n",
      "webcolors                    1.12\n",
      "webencodings                 0.5.1\n",
      "websocket-client             1.5.1\n",
      "Werkzeug                     2.2.2\n",
      "wheel                        0.38.4\n",
      "wrapt                        1.14.1\n",
      "xlrd                         0.7.1\n",
      "xlwt                         0.7.2\n",
      "Note: you may need to restart the kernel to use updated packages.\n"
     ]
    }
   ],
   "source": [
    "pip list"
   ]
  },
  {
   "cell_type": "code",
   "execution_count": 10,
   "metadata": {},
   "outputs": [],
   "source": [
    "!./venv/bin/activate"
   ]
  },
  {
   "cell_type": "code",
   "execution_count": 11,
   "metadata": {},
   "outputs": [],
   "source": [
    "!source venv/bin/activate"
   ]
  },
  {
   "cell_type": "code",
   "execution_count": 12,
   "metadata": {},
   "outputs": [
    {
     "name": "stdout",
     "output_type": "stream",
     "text": [
      "zsh:1: no such file or directory: /bin/ipython\n"
     ]
    }
   ],
   "source": [
    "! /bin/ipython kernel install --user --name=venv."
   ]
  },
  {
   "cell_type": "code",
   "execution_count": 13,
   "metadata": {},
   "outputs": [
    {
     "data": {
      "text/plain": [
       "{'COMMAND_MODE': 'unix2003',\n",
       " 'CONDA_CHANGEPS1': 'no',\n",
       " 'CONDA_DEFAULT_ENV': 'base',\n",
       " 'CONDA_EXE': '/Users/hudsonnash/opt/anaconda3/bin/conda',\n",
       " 'CONDA_PREFIX': '/Users/hudsonnash/opt/anaconda3',\n",
       " 'CONDA_PROMPT_MODIFIER': '(base) ',\n",
       " 'CONDA_PYTHON_EXE': '/Users/hudsonnash/opt/anaconda3/bin/python',\n",
       " 'CONDA_SHLVL': '1',\n",
       " 'HOME': '/Users/hudsonnash',\n",
       " 'LOGNAME': 'hudsonnash',\n",
       " 'MallocNanoZone': '0',\n",
       " 'OLDPWD': '/',\n",
       " 'ORIGINAL_XDG_CURRENT_DESKTOP': 'undefined',\n",
       " 'PATH': '/Users/hudsonnash/Dropbox/code/phil/control/venv',\n",
       " 'PROMPT': '${COLOR_DIR}%d ${COLOR_GIT}$(parse_git_branch)${COLOR_DEF}${NEWLINE}%% ',\n",
       " 'PWD': '/',\n",
       " 'SHELL': '/bin/zsh',\n",
       " 'SHLVL': '0',\n",
       " 'SSH_AUTH_SOCK': '/private/tmp/com.apple.launchd.cuAitBVVdB/Listeners',\n",
       " 'TMPDIR': '/var/folders/78/kn36tmx96wqdrmwtp93_zxg40000gn/T/',\n",
       " 'USER': 'hudsonnash',\n",
       " 'VSCODE_AMD_ENTRYPOINT': 'vs/workbench/api/node/extensionHostProcess',\n",
       " 'VSCODE_CODE_CACHE_PATH': '/Users/hudsonnash/Library/Application Support/Code/CachedData/441438abd1ac652551dbe4d408dfcec8a499b8bf',\n",
       " 'VSCODE_CWD': '/',\n",
       " 'VSCODE_HANDLES_UNCAUGHT_ERRORS': 'true',\n",
       " 'VSCODE_IPC_HOOK': '/Users/hudsonnash/Library/Application Support/Code/1.75.1-main.sock',\n",
       " 'VSCODE_NLS_CONFIG': '{\"locale\":\"en-us\",\"availableLanguages\":{},\"_languagePackSupport\":true}',\n",
       " 'VSCODE_PID': '1018',\n",
       " 'XDG_CACHE_HOME': '/Users/hudsonnash/.cache',\n",
       " 'XDG_CONFIG_HOME': '/Users/hudsonnash/.config',\n",
       " 'XDG_DATA_HOME': '/Users/hudsonnash/.local/share',\n",
       " 'XDG_STATE_HOME': '/Users/hudsonnash/.local/state',\n",
       " 'XPC_FLAGS': '0x0',\n",
       " 'XPC_SERVICE_NAME': 'application.com.microsoft.VSCode.110217984.110218000',\n",
       " '_': '/Applications/Visual Studio Code.app/Contents/MacOS/Electron',\n",
       " '__CFBundleIdentifier': 'com.microsoft.VSCode',\n",
       " '__CF_USER_TEXT_ENCODING': '0x1F5:0x0:0x0',\n",
       " 'ELECTRON_RUN_AS_NODE': '1',\n",
       " 'APPLICATION_INSIGHTS_NO_DIAGNOSTIC_CHANNEL': '1',\n",
       " 'JUPYTER_PATH': '/Users/hudsonnash/.vscode/extensions/ms-toolsai.jupyter-2023.1.2010391206/temp/jupyter',\n",
       " 'PYTHONUNBUFFERED': '1',\n",
       " 'PYTHONIOENCODING': 'utf-8',\n",
       " 'LC_CTYPE': 'UTF-8',\n",
       " 'PYDEVD_USE_FRAME_EVAL': 'NO',\n",
       " 'PYDEVD_IPYTHON_COMPATIBLE_DEBUGGING': '1',\n",
       " 'JPY_PARENT_PID': '1543',\n",
       " 'TERM': 'xterm-color',\n",
       " 'CLICOLOR': '1',\n",
       " 'FORCE_COLOR': '1',\n",
       " 'CLICOLOR_FORCE': '1',\n",
       " 'PAGER': 'cat',\n",
       " 'GIT_PAGER': 'cat',\n",
       " 'MPLBACKEND': 'module://matplotlib_inline.backend_inline'}"
      ]
     },
     "execution_count": 13,
     "metadata": {},
     "output_type": "execute_result"
    }
   ],
   "source": [
    "env"
   ]
  },
  {
   "cell_type": "code",
   "execution_count": 14,
   "metadata": {
    "notebookRunGroups": {
     "groupValue": ""
    }
   },
   "outputs": [
    {
     "data": {
      "text/plain": [
       "'14,56,57-end'"
      ]
     },
     "execution_count": 14,
     "metadata": {},
     "output_type": "execute_result"
    }
   ],
   "source": [
    "from extracttools import get_pg_rng\n",
    "fn = '../extracted/pdf/01-IGACOS2010_Audit_Report.pdf'\n",
    "get_pg_rng(fn)"
   ]
  },
  {
   "cell_type": "code",
   "execution_count": 15,
   "metadata": {},
   "outputs": [
    {
     "name": "stdout",
     "output_type": "stream",
     "text": [
      "Requirement already satisfied: camelot-py==0.9.0 in /usr/local/lib/python3.10/site-packages (0.9.0)\n",
      "Requirement already satisfied: PyPDF2>=1.26.0 in /usr/local/lib/python3.10/site-packages (from camelot-py==0.9.0) (2.10.3)\n",
      "Requirement already satisfied: click>=6.7 in /usr/local/lib/python3.10/site-packages (from camelot-py==0.9.0) (8.1.3)\n",
      "Requirement already satisfied: openpyxl>=2.5.8 in /usr/local/lib/python3.10/site-packages (from camelot-py==0.9.0) (3.0.10)\n",
      "Requirement already satisfied: pandas>=0.23.4 in /usr/local/lib/python3.10/site-packages (from camelot-py==0.9.0) (1.5.3)\n",
      "Requirement already satisfied: pdfminer.six>=20200726 in /usr/local/lib/python3.10/site-packages (from camelot-py==0.9.0) (20221105)\n",
      "Requirement already satisfied: chardet>=3.0.4 in /usr/local/lib/python3.10/site-packages (from camelot-py==0.9.0) (5.1.0)\n",
      "Requirement already satisfied: numpy>=1.13.3 in /usr/local/lib/python3.10/site-packages (from camelot-py==0.9.0) (1.24.1)\n",
      "Requirement already satisfied: et-xmlfile in /usr/local/lib/python3.10/site-packages (from openpyxl>=2.5.8->camelot-py==0.9.0) (1.1.0)\n",
      "Requirement already satisfied: pytz>=2020.1 in /usr/local/lib/python3.10/site-packages (from pandas>=0.23.4->camelot-py==0.9.0) (2022.7.1)\n",
      "Requirement already satisfied: python-dateutil>=2.8.1 in /Users/hudsonnash/Library/Python/3.10/lib/python/site-packages (from pandas>=0.23.4->camelot-py==0.9.0) (2.8.2)\n",
      "Requirement already satisfied: cryptography>=36.0.0 in /usr/local/lib/python3.10/site-packages (from pdfminer.six>=20200726->camelot-py==0.9.0) (39.0.0)\n",
      "Requirement already satisfied: charset-normalizer>=2.0.0 in /usr/local/lib/python3.10/site-packages (from pdfminer.six>=20200726->camelot-py==0.9.0) (3.0.1)\n",
      "Requirement already satisfied: cffi>=1.12 in /Users/hudsonnash/Library/Python/3.10/lib/python/site-packages (from cryptography>=36.0.0->pdfminer.six>=20200726->camelot-py==0.9.0) (1.15.1)\n",
      "Requirement already satisfied: six>=1.5 in /Users/hudsonnash/Library/Python/3.10/lib/python/site-packages (from python-dateutil>=2.8.1->pandas>=0.23.4->camelot-py==0.9.0) (1.16.0)\n",
      "Requirement already satisfied: pycparser in /Users/hudsonnash/Library/Python/3.10/lib/python/site-packages (from cffi>=1.12->cryptography>=36.0.0->pdfminer.six>=20200726->camelot-py==0.9.0) (2.21)\n",
      "Note: you may need to restart the kernel to use updated packages.\n"
     ]
    }
   ],
   "source": [
    "pip install camelot-py==0.9.0"
   ]
  },
  {
   "cell_type": "code",
   "execution_count": 16,
   "metadata": {},
   "outputs": [
    {
     "data": {
      "text/plain": [
       "{'COMMAND_MODE': 'unix2003',\n",
       " 'CONDA_CHANGEPS1': 'no',\n",
       " 'CONDA_DEFAULT_ENV': 'base',\n",
       " 'CONDA_EXE': '/Users/hudsonnash/opt/anaconda3/bin/conda',\n",
       " 'CONDA_PREFIX': '/Users/hudsonnash/opt/anaconda3',\n",
       " 'CONDA_PROMPT_MODIFIER': '(base) ',\n",
       " 'CONDA_PYTHON_EXE': '/Users/hudsonnash/opt/anaconda3/bin/python',\n",
       " 'CONDA_SHLVL': '1',\n",
       " 'HOME': '/Users/hudsonnash',\n",
       " 'LOGNAME': 'hudsonnash',\n",
       " 'MallocNanoZone': '0',\n",
       " 'OLDPWD': '/',\n",
       " 'ORIGINAL_XDG_CURRENT_DESKTOP': 'undefined',\n",
       " 'PATH': '/Users/hudsonnash/Dropbox/code/phil/control/venv',\n",
       " 'PROMPT': '${COLOR_DIR}%d ${COLOR_GIT}$(parse_git_branch)${COLOR_DEF}${NEWLINE}%% ',\n",
       " 'PWD': '/',\n",
       " 'SHELL': '/bin/zsh',\n",
       " 'SHLVL': '0',\n",
       " 'SSH_AUTH_SOCK': '/private/tmp/com.apple.launchd.cuAitBVVdB/Listeners',\n",
       " 'TMPDIR': '/var/folders/78/kn36tmx96wqdrmwtp93_zxg40000gn/T/',\n",
       " 'USER': 'hudsonnash',\n",
       " 'VSCODE_AMD_ENTRYPOINT': 'vs/workbench/api/node/extensionHostProcess',\n",
       " 'VSCODE_CODE_CACHE_PATH': '/Users/hudsonnash/Library/Application Support/Code/CachedData/441438abd1ac652551dbe4d408dfcec8a499b8bf',\n",
       " 'VSCODE_CWD': '/',\n",
       " 'VSCODE_HANDLES_UNCAUGHT_ERRORS': 'true',\n",
       " 'VSCODE_IPC_HOOK': '/Users/hudsonnash/Library/Application Support/Code/1.75.1-main.sock',\n",
       " 'VSCODE_NLS_CONFIG': '{\"locale\":\"en-us\",\"availableLanguages\":{},\"_languagePackSupport\":true}',\n",
       " 'VSCODE_PID': '1018',\n",
       " 'XDG_CACHE_HOME': '/Users/hudsonnash/.cache',\n",
       " 'XDG_CONFIG_HOME': '/Users/hudsonnash/.config',\n",
       " 'XDG_DATA_HOME': '/Users/hudsonnash/.local/share',\n",
       " 'XDG_STATE_HOME': '/Users/hudsonnash/.local/state',\n",
       " 'XPC_FLAGS': '0x0',\n",
       " 'XPC_SERVICE_NAME': 'application.com.microsoft.VSCode.110217984.110218000',\n",
       " '_': '/Applications/Visual Studio Code.app/Contents/MacOS/Electron',\n",
       " '__CFBundleIdentifier': 'com.microsoft.VSCode',\n",
       " '__CF_USER_TEXT_ENCODING': '0x1F5:0x0:0x0',\n",
       " 'ELECTRON_RUN_AS_NODE': '1',\n",
       " 'APPLICATION_INSIGHTS_NO_DIAGNOSTIC_CHANNEL': '1',\n",
       " 'JUPYTER_PATH': '/Users/hudsonnash/.vscode/extensions/ms-toolsai.jupyter-2023.1.2010391206/temp/jupyter',\n",
       " 'PYTHONUNBUFFERED': '1',\n",
       " 'PYTHONIOENCODING': 'utf-8',\n",
       " 'LC_CTYPE': 'UTF-8',\n",
       " 'PYDEVD_USE_FRAME_EVAL': 'NO',\n",
       " 'PYDEVD_IPYTHON_COMPATIBLE_DEBUGGING': '1',\n",
       " 'JPY_PARENT_PID': '1543',\n",
       " 'TERM': 'xterm-color',\n",
       " 'CLICOLOR': '1',\n",
       " 'FORCE_COLOR': '1',\n",
       " 'CLICOLOR_FORCE': '1',\n",
       " 'PAGER': 'cat',\n",
       " 'GIT_PAGER': 'cat',\n",
       " 'MPLBACKEND': 'module://matplotlib_inline.backend_inline'}"
      ]
     },
     "execution_count": 16,
     "metadata": {},
     "output_type": "execute_result"
    }
   ],
   "source": [
    "env"
   ]
  },
  {
   "cell_type": "code",
   "execution_count": 17,
   "metadata": {},
   "outputs": [
    {
     "ename": "ImportError",
     "evalue": "cannot import name 'TableList' from 'camelot.core' (/usr/local/lib/python3.10/site-packages/camelot/core/__init__.py)",
     "output_type": "error",
     "traceback": [
      "\u001b[0;31m---------------------------------------------------------------------------\u001b[0m",
      "\u001b[0;31mImportError\u001b[0m                               Traceback (most recent call last)",
      "Cell \u001b[0;32mIn[17], line 1\u001b[0m\n\u001b[0;32m----> 1\u001b[0m \u001b[39mfrom\u001b[39;00m \u001b[39mcamelot\u001b[39;00m \u001b[39mimport\u001b[39;00m read_pdf\n",
      "File \u001b[0;32m/usr/local/lib/python3.10/site-packages/camelot/__init__.py:6\u001b[0m\n\u001b[1;32m      3\u001b[0m \u001b[39mimport\u001b[39;00m \u001b[39mlogging\u001b[39;00m\n\u001b[1;32m      5\u001b[0m \u001b[39mfrom\u001b[39;00m \u001b[39m.\u001b[39;00m\u001b[39m__version__\u001b[39;00m \u001b[39mimport\u001b[39;00m __version__\n\u001b[0;32m----> 6\u001b[0m \u001b[39mfrom\u001b[39;00m \u001b[39m.\u001b[39;00m\u001b[39mio\u001b[39;00m \u001b[39mimport\u001b[39;00m read_pdf\n\u001b[1;32m      7\u001b[0m \u001b[39mfrom\u001b[39;00m \u001b[39m.\u001b[39;00m\u001b[39mplotting\u001b[39;00m \u001b[39mimport\u001b[39;00m PlotMethods\n\u001b[1;32m     10\u001b[0m \u001b[39m# set up logging\u001b[39;00m\n",
      "File \u001b[0;32m/usr/local/lib/python3.10/site-packages/camelot/io.py:5\u001b[0m\n\u001b[1;32m      1\u001b[0m \u001b[39m# -*- coding: utf-8 -*-\u001b[39;00m\n\u001b[1;32m      3\u001b[0m \u001b[39mimport\u001b[39;00m \u001b[39mwarnings\u001b[39;00m\n\u001b[0;32m----> 5\u001b[0m \u001b[39mfrom\u001b[39;00m \u001b[39m.\u001b[39;00m\u001b[39mhandlers\u001b[39;00m \u001b[39mimport\u001b[39;00m PDFHandler\n\u001b[1;32m      6\u001b[0m \u001b[39mfrom\u001b[39;00m \u001b[39m.\u001b[39;00m\u001b[39mutils\u001b[39;00m \u001b[39mimport\u001b[39;00m validate_input, remove_extra\n\u001b[1;32m      9\u001b[0m \u001b[39mdef\u001b[39;00m \u001b[39mread_pdf\u001b[39m(\n\u001b[1;32m     10\u001b[0m     filepath,\n\u001b[1;32m     11\u001b[0m     pages\u001b[39m=\u001b[39m\u001b[39m\"\u001b[39m\u001b[39m1\u001b[39m\u001b[39m\"\u001b[39m,\n\u001b[0;32m   (...)\u001b[0m\n\u001b[1;32m     16\u001b[0m     \u001b[39m*\u001b[39m\u001b[39m*\u001b[39mkwargs\n\u001b[1;32m     17\u001b[0m ):\n",
      "File \u001b[0;32m/usr/local/lib/python3.10/site-packages/camelot/handlers.py:8\u001b[0m\n\u001b[1;32m      4\u001b[0m \u001b[39mimport\u001b[39;00m \u001b[39msys\u001b[39;00m\n\u001b[1;32m      6\u001b[0m \u001b[39mfrom\u001b[39;00m \u001b[39mPyPDF2\u001b[39;00m \u001b[39mimport\u001b[39;00m PdfFileReader, PdfFileWriter\n\u001b[0;32m----> 8\u001b[0m \u001b[39mfrom\u001b[39;00m \u001b[39m.\u001b[39;00m\u001b[39mcore\u001b[39;00m \u001b[39mimport\u001b[39;00m TableList\n\u001b[1;32m      9\u001b[0m \u001b[39mfrom\u001b[39;00m \u001b[39m.\u001b[39;00m\u001b[39mparsers\u001b[39;00m \u001b[39mimport\u001b[39;00m Stream, Lattice\n\u001b[1;32m     10\u001b[0m \u001b[39mfrom\u001b[39;00m \u001b[39m.\u001b[39;00m\u001b[39mutils\u001b[39;00m \u001b[39mimport\u001b[39;00m (\n\u001b[1;32m     11\u001b[0m     TemporaryDirectory,\n\u001b[1;32m     12\u001b[0m     get_page_layout,\n\u001b[0;32m   (...)\u001b[0m\n\u001b[1;32m     16\u001b[0m     download_url,\n\u001b[1;32m     17\u001b[0m )\n",
      "\u001b[0;31mImportError\u001b[0m: cannot import name 'TableList' from 'camelot.core' (/usr/local/lib/python3.10/site-packages/camelot/core/__init__.py)"
     ]
    }
   ],
   "source": [
    "from camelot import read_pdf"
   ]
  },
  {
   "cell_type": "code",
   "execution_count": null,
   "metadata": {},
   "outputs": [],
   "source": [
    "from extract import extract\n",
    "extract(fn)"
   ]
  },
  {
   "cell_type": "markdown",
   "metadata": {},
   "source": []
  }
 ],
 "metadata": {
  "kernelspec": {
   "display_name": "Python 3",
   "language": "python",
   "name": "python3"
  },
  "language_info": {
   "codemirror_mode": {
    "name": "ipython",
    "version": 3
   },
   "file_extension": ".py",
   "mimetype": "text/x-python",
   "name": "python",
   "nbconvert_exporter": "python",
   "pygments_lexer": "ipython3",
   "version": "3.10.9"
  },
  "orig_nbformat": 4,
  "vscode": {
   "interpreter": {
    "hash": "aee8b7b246df8f9039afb4144a1f6fd8d2ca17a180786b69acc140d282b71a49"
   }
  }
 },
 "nbformat": 4,
 "nbformat_minor": 2
}
